{
 "cells": [
  {
   "cell_type": "markdown",
   "id": "98b22e05",
   "metadata": {},
   "source": [
    "### 언어 모델 선언하기"
   ]
  },
  {
   "cell_type": "code",
   "execution_count": 19,
   "id": "af2fdd34",
   "metadata": {},
   "outputs": [
    {
     "data": {
      "text/plain": [
       "AIMessage(content='네, 잘 지냈습니다! 당신은 잘 지내고 계신가요? 무엇을 도와드릴까요?', additional_kwargs={'refusal': None}, response_metadata={'token_usage': {'completion_tokens': 26, 'prompt_tokens': 12, 'total_tokens': 38, 'completion_tokens_details': {'accepted_prediction_tokens': 0, 'audio_tokens': 0, 'reasoning_tokens': 0, 'rejected_prediction_tokens': 0}, 'prompt_tokens_details': {'audio_tokens': 0, 'cached_tokens': 0}}, 'model_name': 'gpt-4o-mini-2024-07-18', 'system_fingerprint': 'fp_560af6e559', 'id': 'chatcmpl-CAwQpPcuifirqpS7lhtdWJniCtBGR', 'service_tier': 'default', 'finish_reason': 'stop', 'logprobs': None}, id='run--fde6fead-b9de-4647-8dd2-e26d3b39e4a4-0', usage_metadata={'input_tokens': 12, 'output_tokens': 26, 'total_tokens': 38, 'input_token_details': {'audio': 0, 'cache_read': 0}, 'output_token_details': {'audio': 0, 'reasoning': 0}})"
      ]
     },
     "execution_count": 19,
     "metadata": {},
     "output_type": "execute_result"
    }
   ],
   "source": [
    "from langchain_openai import ChatOpenAI\n",
    "from langchain_core.messages import HumanMessage\n",
    "llm = ChatOpenAI(model=\"gpt-4o-mini\")\n",
    "\n",
    "llm.invoke([HumanMessage(\"잘 지냈어?\")])"
   ]
  },
  {
   "cell_type": "markdown",
   "id": "c02d9612",
   "metadata": {},
   "source": [
    "### 랭체인에 시간을 파악하는 도구 추가하기"
   ]
  },
  {
   "cell_type": "code",
   "execution_count": 20,
   "id": "77675419",
   "metadata": {},
   "outputs": [],
   "source": [
    "from langchain_core.tools import tool\n",
    "from datetime import datetime\n",
    "import pytz\n",
    "\n",
    "@tool\n",
    "def get_current_time(timezone: str, location: str) -> str:\n",
    "    \"\"\" 현재 시각을 반환하는 함수\n",
    "\n",
    "    Args:\n",
    "    timezone (str): 타임존(예: 'Asia/Seoul'). 실제 존재해야함\n",
    "    location (str): 지역명. 타임존은 모든 지명에 대응되지 않으므로 이후 llm 답변 생성에 사용됨\n",
    "    \"\"\"\n",
    "    tz = pytz.timezone(timezone)\n",
    "    now = datetime.now(tz).strftime(\"%Y-%m-%d %H:%M:%S\")\n",
    "    location_and_locao_time = f'{timezone} ({location}) 현재 시각 {now}'\n",
    "\n",
    "    print(location_and_locao_time)\n",
    "    return location_and_locao_time"
   ]
  },
  {
   "cell_type": "markdown",
   "id": "f285eeed",
   "metadata": {},
   "source": [
    "### 함수 get_current_time을 랭체인으로 llm에 연결하기"
   ]
  },
  {
   "cell_type": "code",
   "execution_count": 21,
   "id": "4b6865ea",
   "metadata": {},
   "outputs": [],
   "source": [
    "# 도구를 tools 리스트에 추가하고, tool_dict에도 추가\n",
    "tools = [get_current_time]\n",
    "tool_dict = {\"get_current_time\": get_current_time,}\n",
    "\n",
    "# 도구를 모델에 바인딩: 모델에 도구를 바인딩하면, 도구를 사용하여 답변을 생성할 수 있음\n",
    "llm_with_tools = llm.bind_tools(tools)"
   ]
  },
  {
   "cell_type": "markdown",
   "id": "8e9ab7db",
   "metadata": {},
   "source": [
    "### 사용자의 질문과 도구를 사용해 언어모델 답변 생성하기"
   ]
  },
  {
   "cell_type": "code",
   "execution_count": 22,
   "id": "8b013cb0",
   "metadata": {},
   "outputs": [
    {
     "name": "stdout",
     "output_type": "stream",
     "text": [
      "[SystemMessage(content='너는 사용자의 질문에 답변을 하기 위해 tools를 사용할 수 있다.', additional_kwargs={}, response_metadata={}), HumanMessage(content='부산은 지금 몇 시야?', additional_kwargs={}, response_metadata={}), AIMessage(content='', additional_kwargs={'tool_calls': [{'id': 'call_yPAhThmugdYPx51EYcCcj5ad', 'function': {'arguments': '{\"timezone\":\"Asia/Seoul\",\"location\":\"부산\"}', 'name': 'get_current_time'}, 'type': 'function'}], 'refusal': None}, response_metadata={'token_usage': {'completion_tokens': 23, 'prompt_tokens': 130, 'total_tokens': 153, 'completion_tokens_details': {'accepted_prediction_tokens': 0, 'audio_tokens': 0, 'reasoning_tokens': 0, 'rejected_prediction_tokens': 0}, 'prompt_tokens_details': {'audio_tokens': 0, 'cached_tokens': 0}}, 'model_name': 'gpt-4o-mini-2024-07-18', 'system_fingerprint': 'fp_560af6e559', 'id': 'chatcmpl-CAwQq10OfGxbc3uQxWi63zEx22VBO', 'service_tier': 'default', 'finish_reason': 'tool_calls', 'logprobs': None}, id='run--4e0999fa-b66e-48d1-b638-a067af3282ce-0', tool_calls=[{'name': 'get_current_time', 'args': {'timezone': 'Asia/Seoul', 'location': '부산'}, 'id': 'call_yPAhThmugdYPx51EYcCcj5ad', 'type': 'tool_call'}], usage_metadata={'input_tokens': 130, 'output_tokens': 23, 'total_tokens': 153, 'input_token_details': {'audio': 0, 'cache_read': 0}, 'output_token_details': {'audio': 0, 'reasoning': 0}})]\n"
     ]
    }
   ],
   "source": [
    "from langchain_core.messages import SystemMessage\n",
    "\n",
    "# 사용자의 질문과 도구를 사용해 언어 모델 답변 생성\n",
    "messages = [\n",
    "    SystemMessage(\"너는 사용자의 질문에 답변을 하기 위해 tools를 사용할 수 있다.\"),\n",
    "    HumanMessage(\"부산은 지금 몇 시야?\"),\n",
    "]\n",
    "\n",
    "# llm_with_tools를 사용해 사용자의 질문에 언어 모델 답변 생성\n",
    "response = llm_with_tools.invoke(messages)\n",
    "messages.append(response)\n",
    "\n",
    "# 생성된 언어 모델 답변 출력\n",
    "print(messages)"
   ]
  },
  {
   "cell_type": "markdown",
   "id": "c7c95b11",
   "metadata": {},
   "source": [
    "### 함수 실행 결과 출력하기"
   ]
  },
  {
   "cell_type": "code",
   "execution_count": 23,
   "id": "e016a4a7",
   "metadata": {},
   "outputs": [
    {
     "name": "stdout",
     "output_type": "stream",
     "text": [
      "{'timezone': 'Asia/Seoul', 'location': '부산'}\n",
      "Asia/Seoul (부산) 현재 시각 2025-09-01 19:52:09\n"
     ]
    },
    {
     "data": {
      "text/plain": [
       "[SystemMessage(content='너는 사용자의 질문에 답변을 하기 위해 tools를 사용할 수 있다.', additional_kwargs={}, response_metadata={}),\n",
       " HumanMessage(content='부산은 지금 몇 시야?', additional_kwargs={}, response_metadata={}),\n",
       " AIMessage(content='', additional_kwargs={'tool_calls': [{'id': 'call_yPAhThmugdYPx51EYcCcj5ad', 'function': {'arguments': '{\"timezone\":\"Asia/Seoul\",\"location\":\"부산\"}', 'name': 'get_current_time'}, 'type': 'function'}], 'refusal': None}, response_metadata={'token_usage': {'completion_tokens': 23, 'prompt_tokens': 130, 'total_tokens': 153, 'completion_tokens_details': {'accepted_prediction_tokens': 0, 'audio_tokens': 0, 'reasoning_tokens': 0, 'rejected_prediction_tokens': 0}, 'prompt_tokens_details': {'audio_tokens': 0, 'cached_tokens': 0}}, 'model_name': 'gpt-4o-mini-2024-07-18', 'system_fingerprint': 'fp_560af6e559', 'id': 'chatcmpl-CAwQq10OfGxbc3uQxWi63zEx22VBO', 'service_tier': 'default', 'finish_reason': 'tool_calls', 'logprobs': None}, id='run--4e0999fa-b66e-48d1-b638-a067af3282ce-0', tool_calls=[{'name': 'get_current_time', 'args': {'timezone': 'Asia/Seoul', 'location': '부산'}, 'id': 'call_yPAhThmugdYPx51EYcCcj5ad', 'type': 'tool_call'}], usage_metadata={'input_tokens': 130, 'output_tokens': 23, 'total_tokens': 153, 'input_token_details': {'audio': 0, 'cache_read': 0}, 'output_token_details': {'audio': 0, 'reasoning': 0}}),\n",
       " ToolMessage(content='Asia/Seoul (부산) 현재 시각 2025-09-01 19:52:09', name='get_current_time', tool_call_id='call_yPAhThmugdYPx51EYcCcj5ad')]"
      ]
     },
     "execution_count": 23,
     "metadata": {},
     "output_type": "execute_result"
    }
   ],
   "source": [
    "for tool_call in response.tool_calls:\n",
    "    selected_tool = tool_dict[tool_call[\"name\"]]\n",
    "    print(tool_call[\"args\"])\n",
    "    tool_msg = selected_tool.invoke(tool_call)\n",
    "    messages.append(tool_msg)\n",
    "\n",
    "messages"
   ]
  },
  {
   "cell_type": "markdown",
   "id": "40d680b9",
   "metadata": {},
   "source": [
    "### 함수 실행 결과를 문장으로 출력하기"
   ]
  },
  {
   "cell_type": "code",
   "execution_count": 24,
   "id": "0bdef183",
   "metadata": {},
   "outputs": [
    {
     "data": {
      "text/plain": [
       "AIMessage(content='부산은 현재 2025년 9월 1일 19시 52분입니다.', additional_kwargs={'refusal': None}, response_metadata={'token_usage': {'completion_tokens': 23, 'prompt_tokens': 186, 'total_tokens': 209, 'completion_tokens_details': {'accepted_prediction_tokens': 0, 'audio_tokens': 0, 'reasoning_tokens': 0, 'rejected_prediction_tokens': 0}, 'prompt_tokens_details': {'audio_tokens': 0, 'cached_tokens': 0}}, 'model_name': 'gpt-4o-mini-2024-07-18', 'system_fingerprint': 'fp_560af6e559', 'id': 'chatcmpl-CAwQsHGrgLxEXPtwf1YFbQrvI54CV', 'service_tier': 'default', 'finish_reason': 'stop', 'logprobs': None}, id='run--9f2e639a-0f05-4630-8f54-5c5193310e21-0', usage_metadata={'input_tokens': 186, 'output_tokens': 23, 'total_tokens': 209, 'input_token_details': {'audio': 0, 'cache_read': 0}, 'output_token_details': {'audio': 0, 'reasoning': 0}})"
      ]
     },
     "execution_count": 24,
     "metadata": {},
     "output_type": "execute_result"
    }
   ],
   "source": [
    "llm_with_tools.invoke(messages)"
   ]
  },
  {
   "cell_type": "markdown",
   "id": "678cc22d",
   "metadata": {},
   "source": [
    "### pydantic으로 함수 입력값 형식 표현하기"
   ]
  },
  {
   "cell_type": "code",
   "execution_count": 25,
   "id": "d6987a4a",
   "metadata": {},
   "outputs": [],
   "source": [
    "from pydantic import BaseModel, Field\n",
    "\n",
    "class StockHistoryInput(BaseModel):\n",
    "    ticker: str = Field(..., title=\"주식 코드\", description=f\"주식 코드 (예: AAPL)\")\n",
    "    period: str = Field(..., title=\"기간\", description=\"주식 데이터 조회 기간 (예: 1d, 1mo, 1y)\")"
   ]
  },
  {
   "cell_type": "markdown",
   "id": "607d1095",
   "metadata": {},
   "source": [
    "### pydentic으로 함수 입력값 형식 표현하기(2)"
   ]
  },
  {
   "cell_type": "code",
   "execution_count": 26,
   "id": "4b88522c",
   "metadata": {},
   "outputs": [],
   "source": [
    "import yfinance as yf\n",
    "\n",
    "@tool\n",
    "def get_yf_stock_history(stock_history_input: StockHistoryInput) -> str:\n",
    "    \"\"\" 주식 종목의 가격 데이터를 조회하는 함수 \"\"\"\n",
    "    stock = yf.Ticker(stock_history_input.ticker)\n",
    "    history = stock.history(period=stock_history_input.period)\n",
    "    history_md = history.to_markdown()\n",
    "\n",
    "    return history_md\n",
    "\n",
    "tools = [get_current_time, get_yf_stock_history]\n",
    "tool_dict = {\"get_current_time\": get_current_time, \"get_yf_stock_history\": get_yf_stock_history}\n",
    "\n",
    "llm_with_tools = llm.bind_tools(tools)"
   ]
  },
  {
   "cell_type": "markdown",
   "id": "611f55b1",
   "metadata": {},
   "source": [
    "### 함수 실행 결과 출력하기"
   ]
  },
  {
   "cell_type": "code",
   "execution_count": 27,
   "id": "036b2103",
   "metadata": {},
   "outputs": [
    {
     "name": "stdout",
     "output_type": "stream",
     "text": [
      "content='' additional_kwargs={'tool_calls': [{'id': 'call_wdd6vI5oBCL03eSF4kWor6dt', 'function': {'arguments': '{\"stock_history_input\":{\"ticker\":\"TSLA\",\"period\":\"1mo\"}}', 'name': 'get_yf_stock_history'}, 'type': 'function'}], 'refusal': None} response_metadata={'token_usage': {'completion_tokens': 27, 'prompt_tokens': 277, 'total_tokens': 304, 'completion_tokens_details': {'accepted_prediction_tokens': 0, 'audio_tokens': 0, 'reasoning_tokens': 0, 'rejected_prediction_tokens': 0}, 'prompt_tokens_details': {'audio_tokens': 0, 'cached_tokens': 0}}, 'model_name': 'gpt-4o-mini-2024-07-18', 'system_fingerprint': 'fp_8bda4d3a2c', 'id': 'chatcmpl-CAwQtcgG2f3refoYN0iQ2CqkLyibC', 'service_tier': 'default', 'finish_reason': 'tool_calls', 'logprobs': None} id='run--37a6576c-e8d3-4b95-9f22-9a7a0a8e6909-0' tool_calls=[{'name': 'get_yf_stock_history', 'args': {'stock_history_input': {'ticker': 'TSLA', 'period': '1mo'}}, 'id': 'call_wdd6vI5oBCL03eSF4kWor6dt', 'type': 'tool_call'}] usage_metadata={'input_tokens': 277, 'output_tokens': 27, 'total_tokens': 304, 'input_token_details': {'audio': 0, 'cache_read': 0}, 'output_token_details': {'audio': 0, 'reasoning': 0}}\n"
     ]
    }
   ],
   "source": [
    "messages.append(HumanMessage(\"테슬라는 한 달 전에 비해 주가가 올랐나 내렸나?\"))\n",
    "\n",
    "response = llm_with_tools.invoke(messages)\n",
    "print(response)\n",
    "messages.append(response)"
   ]
  },
  {
   "cell_type": "markdown",
   "id": "5d9327d1",
   "metadata": {},
   "source": [
    "### 결과를 메시지로 추가하기"
   ]
  },
  {
   "cell_type": "code",
   "execution_count": 28,
   "id": "bffb4616",
   "metadata": {},
   "outputs": [
    {
     "name": "stdout",
     "output_type": "stream",
     "text": [
      "{'stock_history_input': {'ticker': 'TSLA', 'period': '1mo'}}\n",
      "content='| Date                      |   Open |   High |    Low |   Close |      Volume |   Dividends |   Stock Splits |\\n|:--------------------------|-------:|-------:|-------:|--------:|------------:|------------:|---------------:|\\n| 2025-07-30 00:00:00-04:00 | 322.18 | 324.45 | 311.62 |  319.04 | 8.39319e+07 |           0 |              0 |\\n| 2025-07-31 00:00:00-04:00 | 319.61 | 321.37 | 306.1  |  308.27 | 8.52709e+07 |           0 |              0 |\\n| 2025-08-01 00:00:00-04:00 | 306.21 | 309.31 | 297.82 |  302.63 | 8.91214e+07 |           0 |              0 |\\n| 2025-08-04 00:00:00-04:00 | 309.08 | 312.12 | 303    |  309.26 | 7.86839e+07 |           0 |              0 |\\n| 2025-08-05 00:00:00-04:00 | 308.95 | 312.45 | 305.5  |  308.72 | 5.79613e+07 |           0 |              0 |\\n| 2025-08-06 00:00:00-04:00 | 307.89 | 320.47 | 306.93 |  319.91 | 7.85236e+07 |           0 |              0 |\\n| 2025-08-07 00:00:00-04:00 | 319.79 | 322.4  | 316.16 |  322.27 | 6.66587e+07 |           0 |              0 |\\n| 2025-08-08 00:00:00-04:00 | 321.43 | 335.15 | 320.98 |  329.65 | 9.12003e+07 |           0 |              0 |\\n| 2025-08-11 00:00:00-04:00 | 335    | 346.64 | 334.15 |  339.03 | 1.0532e+08  |           0 |              0 |\\n| 2025-08-12 00:00:00-04:00 | 345    | 345.26 | 332.94 |  340.84 | 8.05221e+07 |           0 |              0 |\\n| 2025-08-13 00:00:00-04:00 | 341.5  | 348.98 | 338.2  |  339.38 | 6.78389e+07 |           0 |              0 |\\n| 2025-08-14 00:00:00-04:00 | 335.76 | 340.47 | 330.4  |  335.58 | 7.50007e+07 |           0 |              0 |\\n| 2025-08-15 00:00:00-04:00 | 337.66 | 339.3  | 327.02 |  330.56 | 7.43198e+07 |           0 |              0 |\\n| 2025-08-18 00:00:00-04:00 | 329.62 | 336.27 | 329.59 |  335.16 | 5.69566e+07 |           0 |              0 |\\n| 2025-08-19 00:00:00-04:00 | 335.79 | 340.55 | 327.85 |  329.31 | 7.5956e+07  |           0 |              0 |\\n| 2025-08-20 00:00:00-04:00 | 329.22 | 331.37 | 314.6  |  323.9  | 7.74818e+07 |           0 |              0 |\\n| 2025-08-21 00:00:00-04:00 | 322.08 | 324.9  | 318.68 |  320.11 | 5.57444e+07 |           0 |              0 |\\n| 2025-08-22 00:00:00-04:00 | 321.66 | 340.25 | 319.69 |  340.01 | 9.40163e+07 |           0 |              0 |\\n| 2025-08-25 00:00:00-04:00 | 338.9  | 349.53 | 335.03 |  346.6  | 8.667e+07   |           0 |              0 |\\n| 2025-08-26 00:00:00-04:00 | 344.93 | 351.9  | 343.72 |  351.67 | 7.66516e+07 |           0 |              0 |\\n| 2025-08-27 00:00:00-04:00 | 351.94 | 355.39 | 349.16 |  349.6  | 6.5519e+07  |           0 |              0 |\\n| 2025-08-28 00:00:00-04:00 | 350.91 | 353.55 | 340.26 |  345.98 | 6.79032e+07 |           0 |              0 |\\n| 2025-08-29 00:00:00-04:00 | 347.23 | 348.75 | 331.7  |  333.87 | 8.09497e+07 |           0 |              0 |' name='get_yf_stock_history' tool_call_id='call_wdd6vI5oBCL03eSF4kWor6dt'\n"
     ]
    }
   ],
   "source": [
    "for tool_call in response.tool_calls:\n",
    "    selected_tool = tool_dict[tool_call[\"name\"]]\n",
    "    print(tool_call[\"args\"])\n",
    "    tool_msg = selected_tool.invoke(tool_call)\n",
    "    messages.append(tool_msg)\n",
    "    print(tool_msg)"
   ]
  },
  {
   "cell_type": "markdown",
   "id": "e156c074",
   "metadata": {},
   "source": [
    "### 자연어로 함수 결과 처리하기"
   ]
  },
  {
   "cell_type": "code",
   "execution_count": 29,
   "id": "3da5608c",
   "metadata": {},
   "outputs": [
    {
     "data": {
      "text/plain": [
       "AIMessage(content='한 달 전 테슬라(TSLA)의 주가는 다음과 같았습니다:\\n\\n- **2025년 7월 30일**: 종가 319.04\\n\\n현재(2025년 9월 1일) 테슬라의 주가는 351.67입니다.\\n\\n- **현재(2025년 9월 1일)**: 종가 351.67\\n\\n따라서 테슬라는 한 달 전에 비해 주가가 올랐습니다.', additional_kwargs={'refusal': None}, response_metadata={'token_usage': {'completion_tokens': 103, 'prompt_tokens': 1696, 'total_tokens': 1799, 'completion_tokens_details': {'accepted_prediction_tokens': 0, 'audio_tokens': 0, 'reasoning_tokens': 0, 'rejected_prediction_tokens': 0}, 'prompt_tokens_details': {'audio_tokens': 0, 'cached_tokens': 0}}, 'model_name': 'gpt-4o-mini-2024-07-18', 'system_fingerprint': 'fp_8bda4d3a2c', 'id': 'chatcmpl-CAwQuKDwVDqWGRCE44vSIRDDFUYus', 'service_tier': 'default', 'finish_reason': 'stop', 'logprobs': None}, id='run--e7571b25-b516-4a1d-8cca-b6915942bece-0', usage_metadata={'input_tokens': 1696, 'output_tokens': 103, 'total_tokens': 1799, 'input_token_details': {'audio': 0, 'cache_read': 0}, 'output_token_details': {'audio': 0, 'reasoning': 0}})"
      ]
     },
     "execution_count": 29,
     "metadata": {},
     "output_type": "execute_result"
    }
   ],
   "source": [
    "llm_with_tools.invoke(messages)"
   ]
  }
 ],
 "metadata": {
  "kernelspec": {
   "display_name": "AI",
   "language": "python",
   "name": "python3"
  },
  "language_info": {
   "codemirror_mode": {
    "name": "ipython",
    "version": 3
   },
   "file_extension": ".py",
   "mimetype": "text/x-python",
   "name": "python",
   "nbconvert_exporter": "python",
   "pygments_lexer": "ipython3",
   "version": "3.12.7"
  }
 },
 "nbformat": 4,
 "nbformat_minor": 5
}
