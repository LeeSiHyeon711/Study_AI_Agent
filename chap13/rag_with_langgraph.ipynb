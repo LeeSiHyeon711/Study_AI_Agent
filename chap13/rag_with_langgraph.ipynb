{
 "cells": [
  {
   "cell_type": "markdown",
   "id": "97c3f022",
   "metadata": {},
   "source": [
    "### 사용할 PDF 파일 확인하기"
   ]
  },
  {
   "cell_type": "code",
   "execution_count": 2,
   "id": "609311b1",
   "metadata": {},
   "outputs": [
    {
     "name": "stdout",
     "output_type": "stream",
     "text": [
      "./data\\2040_seoul_plan.pdf\n",
      "./data\\OneNYC-2050-Summary.pdf\n"
     ]
    }
   ],
   "source": [
    "from glob import glob\n",
    "for g in glob('./data/*.pdf'):\n",
    "    print(g)"
   ]
  },
  {
   "cell_type": "markdown",
   "id": "fe023faf",
   "metadata": {},
   "source": [
    "### read_pdf_and_split_text 함수 만들기"
   ]
  },
  {
   "cell_type": "code",
   "execution_count": 3,
   "id": "a0485259",
   "metadata": {},
   "outputs": [],
   "source": [
    "from langchain_community.document_loaders import PyPDFLoader\n",
    "from langchain_text_splitters import RecursiveCharacterTextSplitter\n",
    "\n",
    "def read_pdf_and_split_text(pdf_path, chunk_size=1000, chunk_overlap=100):\n",
    "    \"\"\"\n",
    "    주어진 PDF 파일을 읽고 텍스트를 분할합니다.\n",
    "    매개변수:\n",
    "        pdf_path (str): PDF 파일의 경로\n",
    "        chunk_size (int, 선택적): 각 텍스트 청크의 크기. 기본값은 1000입니다.\n",
    "        chunk_overlap (int, 선택적): 청크 간의 중첩 크기. 기본값은 100입니다.\n",
    "    반환값:\n",
    "        list: 분할된 텍스트 청크의 리스트.\n",
    "    \"\"\"\n",
    "    print(f\"PDF: {pdf_path} -------------\")\n",
    "\n",
    "    pdf_loader = PyPDFLoader(pdf_path)\n",
    "    data_from_pdf = pdf_loader.load()\n",
    "\n",
    "    text_splitter = RecursiveCharacterTextSplitter(\n",
    "        chunk_size=chunk_size, chunk_overlap=chunk_overlap\n",
    "    )\n",
    "\n",
    "    splits = text_splitter.split_documents(data_from_pdf)\n",
    "\n",
    "    print(f\"Number of splits: {len(splits)}\\n\")\n",
    "    return splits"
   ]
  },
  {
   "cell_type": "markdown",
   "id": "20e55dde",
   "metadata": {},
   "source": [
    "### vectorstore 설정하고 청크 처리하기"
   ]
  },
  {
   "cell_type": "code",
   "execution_count": 9,
   "id": "98a66246",
   "metadata": {},
   "outputs": [
    {
     "name": "stdout",
     "output_type": "stream",
     "text": [
      "Creating new FAISS store\n",
      "PDF: ./data\\2040_seoul_plan.pdf -------------\n",
      "Number of splits: 266\n",
      "\n",
      "PDF: ./data\\OneNYC-2050-Summary.pdf -------------\n",
      "Number of splits: 176\n",
      "\n"
     ]
    }
   ],
   "source": [
    "import os\n",
    "import dotenv\n",
    "from langchain_community.vectorstores import FAISS\n",
    "\n",
    "dotenv.load_dotenv()\n",
    "\n",
    "# embedding 설정 추가\n",
    "from langchain_openai import OpenAIEmbeddings\n",
    "\n",
    "embedding = OpenAIEmbeddings(\n",
    "    model='text-embedding-3-large',\n",
    "    api_key=os.getenv('OPENAI_API_KEY')\n",
    ")\n",
    "\n",
    "# vectorstore 설정\n",
    "if os.path.exists('./chroma_store'):\n",
    "    print(\"Loading existing FAISS store\")\n",
    "    vectorstore = FAISS.load_local(\n",
    "        './chroma_store',\n",
    "        embedding\n",
    "    )\n",
    "else:\n",
    "    print(\"Creating new FAISS store\")\n",
    "    \n",
    "    vectorstore = None\n",
    "    for g in glob('./data/*.pdf'):\n",
    "        chunks = read_pdf_and_split_text(g)\n",
    "        # 100개씩 나눠서 저장\n",
    "        for i in range(0, len(chunks), 100):\n",
    "            if vectorstore is None:\n",
    "                vectorstore = FAISS.from_documents(\n",
    "                    documents=chunks[i:i+100],\n",
    "                    embedding=embedding\n",
    "                )\n",
    "            else:\n",
    "                vectorstore.add_documents(\n",
    "                    documents=chunks[i:i+100]\n",
    "                )\n",
    "    \n",
    "    # FAISS 저장\n",
    "    vectorstore.save_local('./chroma_store')"
   ]
  },
  {
   "cell_type": "markdown",
   "id": "3e9db073",
   "metadata": {},
   "source": [
    "### 관련 문서 검색하기"
   ]
  },
  {
   "cell_type": "code",
   "execution_count": 10,
   "id": "ad614ecf",
   "metadata": {},
   "outputs": [
    {
     "name": "stdout",
     "output_type": "stream",
     "text": [
      "{'producer': 'Hancom PDF 1.3.0.542', 'creator': 'Hwp 2020 11.0.0.4643', 'creationdate': '2023-01-04T20:47:24+09:00', 'author': 'SI', 'moddate': '2023-01-04T20:47:24+09:00', 'pdfversion': '1.4', 'source': './data\\\\2040_seoul_plan.pdf', 'total_pages': 195, 'page': 63, 'page_label': '64'}\n",
      "64제2장 미래상과 목표6. 미래위기를 준비하는, ‘탄소중립 안전도시 구축’1) 배경전(全) 지구적인 기후변화에 대응하기 위한 대도시 차원의 대응 필요Ÿ서울시 2017년 온실가스 배출량은 46,685천 톤CO2eq로 2005년 배출량에 비해 5.6%(276만 톤CO2eq) 감소하였으며, 서울의 1인당 온실가스 배출량은 4.7CO2eq/인으로 국가의 13.8 톤CO2eq/인에 비해 낮은 수준이다. 또한 2014년 기준 서울의 1인당 온실가스 배출량은 4.5CO2eq/인으로 세계 주요 도시에 비해 낮은 수준을 보인다7).\n",
      "<그림 2-26> 세계 주요 도시 1인당 온실가스 배출량자료: World Bank, 2014Ÿ그럼에도 불구하고, 기후변화 문제는 21세기에 전(全)지구적으로 가장 위중한 영향을 미칠 것으로 예상되는 바, 탄소중립과 기후위기 대응은 국제·국가·도시의 핵심 정책으로 다루어져야 한다.Ÿ파리협정(2015) 이후, 우리나라를 비롯한 미국, 유럽연합 등 세계 136개국이 탄소중립을 선언하였으며, 서울시를 비롯한 뉴욕, 런던 등과 같은 많은 글로벌 도시에서 탄소중립을 시정의 핵심과제로 추진중이다.Ÿ우리나라는 2020년 ‘한국판 그린뉴딜’을 발표하며 공식적으로 2050 탄소중립을 선언하였으며 서울시 역시 2020년 ‘그린뉴딜 추진을 통한 2050 온실가스 감축 전략’을 발표하고 탄소중립을 선언에 따른 부문별 사업을 적극 추진하고 있다.-서울시는 2050년 탄소중립을 목표로 2030년까지 2005년 배출량 대비 40%, 2040년까지 70% 감축목표를 제시하였고, 2022년 기후변화대응종합계획을 수립하여, 향후 5년간(’22~’26년) 2005년 대비 온실가스 30% 감축목표와 구체적인 실행계획을 수립하였음7) 황인창 외, 2020, 파리협정 이행 위한 서울시 ‘2050 탄소중립’ 전략, 서울연구원, pp6-9\n",
      "{'producer': 'Hancom PDF 1.3.0.542', 'creator': 'Hwp 2020 11.0.0.4643', 'creationdate': '2023-01-04T20:47:24+09:00', 'author': 'SI', 'moddate': '2023-01-04T20:47:24+09:00', 'pdfversion': '1.4', 'source': './data\\\\2040_seoul_plan.pdf', 'total_pages': 195, 'page': 64, 'page_label': '65'}\n",
      "제3절 2040 서울도시기본계획 7대 목표65Ÿ특히, 서울시는 현재 온실가스 배출량의 90%를 차지하고 있는 건물과 수송 부문 감축을 위해 적극적인 대책을 마련하고 있다.-2026년까지 건물 에너지효율화사업 100만호를 추진, 건물온실가스총량제, 신규건물 제로에너지 건물(ZEB) 의무화를 통해 기존 및 신규건물의 제로에너지화를 촉진-수송부문 배출감축을 위해 전기차 비중을 2026년까지 10%(’21년 5.2만대 → ’26년 40만대)로 확대하고, 22만기의 충전 인프라를 구축을 계획 중(’21년 2만기) 시민 생활과 안전을 위한 기후위기 대응 요구 심화Ÿ서울은 인구, 시설 등이 밀집해 있는 대도시로 기온 상승, 폭염, 집중호우, 태풍, 한파 등 극한 기후 현상이 더욱 빈번하게 발생할 것으로 전망된다. 이러한 기후위험은 서울시민의 일상생활과 안전을 크게 위협할 수 있다. 따라서 시민의 일상을 보호하고 도시의 회복력을 강화하기 위한 적극적인 기후 위기 대응 전략이 필요하다.Ÿ특히 다양화·복합화되는 재난안전사고에 대응해 전통적인 자연·사회재난의 범주뿐 아니라, 신종 복합재난까지 대비할 수 있는 다면적인 대응체계 마련이 요구된다.2) 추진전략탄소중립·기후 위기 적응대책은 시의 모든 정책과 사업의 주요 원칙으로 고려Ÿ탄소중립은 돌이키기 어려운 기후재난을 막기 위한 국제사회와의 약속이기에 시의 모든 정책과 사업의 결정 과정에서 주요하게 고려되어야 할 포괄적 ‘원칙’으로 확립한다.-서울시는 온실가스 감축 방안을 모든 예산사업에 고려·반영하기 위해 2021년부터 기후예산제 시범사업을 진행 중Ÿ모든 실·국·본부와 관련 이해 당사자들은 이러한 원칙 수립과 기본방향에 적극적으로 참여할 필요가 있으며 기후변화로 인한 폭염, 홍수, 가뭄 등과 같은 기상재해는 향후 지속적으로 발생할 가능성이 높아, 정책 수립 시 주요하게 고려한다.장기적·구조적 전환을 위해 도시계획 단계에서의 탄소중립·기후 위기 적응대책 반영Ÿ탄소중립 및 기후 위기 대책은 개별 사업 단위로 마련되어 왔으나, 앞으로는\n",
      "{'producer': 'Hancom PDF 1.3.0.542', 'creator': 'Hwp 2020 11.0.0.4643', 'creationdate': '2023-01-04T20:47:24+09:00', 'author': 'SI', 'moddate': '2023-01-04T20:47:24+09:00', 'pdfversion': '1.4', 'source': './data\\\\2040_seoul_plan.pdf', 'total_pages': 195, 'page': 45, 'page_label': '46'}\n",
      "도로망 네트워크 강화, 기후변화에 대응하기 위한 온실가스 적극 감축 및 녹색 인프라 확충 등을 강조하고 있다.Ÿ금번 도시기본계획의 부문별 전략계획과 공간계획에서는 서울의 글로벌 경쟁력 강화, 광역화에 따른 수도권 내 교통, 산업 등 네트워크 연계 강화, 기후 위기에 대응하기 위한 지속가능한 서울로의 전환 등 수도권정비기본계획의 주요 내용을 적극적으로 반영하여 수립하였다.\n",
      "{'producer': 'Hancom PDF 1.3.0.542', 'creator': 'Hwp 2020 11.0.0.4643', 'creationdate': '2023-01-04T20:47:24+09:00', 'author': 'SI', 'moddate': '2023-01-04T20:47:24+09:00', 'pdfversion': '1.4', 'source': './data\\\\2040_seoul_plan.pdf', 'total_pages': 195, 'page': 187, 'page_label': '188'}\n",
      "188제6장 계획의 실현부문지표명지표의 통계명내용 및 산정식출처목표치 및 관리방향\n",
      "기후·환경\n",
      "탄소중립온실가스 배출량건물·수송·폐기물 처리 등에 따른 서울의 온실가스 배출량서울시 내부자료(기후환경정책과)2005년 대비 70% 감축대기질개선초미세먼지 농도*서울시 대기 중 2.5㎛보다 작은 초미세먼지의 농도서울특별시 대기환경정보10㎍/㎥(2040)신재생에너지신재생에너지 보급률*서울시 총 에너지보급량 중 신·재생에너지 보급 비율한국에너지공단21%(2030)탄소배출감축건물 에너지 효율화 사업 수에너지다소비건물, 공공건물, 상업건물, 주택 등에 대한 건물에너지효율화 사업 개소수(누적) 서울시 내부자료(친환경건물과)100만 호(2026)자원순환인구당 생활폐기물 발생량(매립률)서울시민 1인당 하루 평균 생활폐기물 배출량(서울 하루 평균 생활폐기물 배출량/인구 수)과 생활폐기물 중 매립되는 비율 서울통계0.86㎏/인/일(2027)물순환물재이용량*빗물, 중수도시설, 하수처리수로 대체하여 이용한 물의 양 서울시 내부자료(수변감성도시과)증가녹지환경만족녹지환경만족도시민이 현재 거주하는 지역의 녹지환경(공원, 숲 등)에 대하여 만족하는 정도서울서베이증가공원확충1인당 공원면적*공원 면적(도시자연공원구역+도시계획시설 공원+국립공원)/인구수서울시 공원통계증가수변공간활성화한강공원 이용객수산책, 낚시, 자전거, 인라인, 운동·수상시설, 수영장, 행사 등을 위하여 한강공원을 이용한 이용객 수서울시 통계정보시스템증가\n",
      "안전·방재\n",
      "{'producer': 'Hancom PDF 1.3.0.542', 'creator': 'Hwp 2020 11.0.0.4643', 'creationdate': '2023-01-04T20:47:24+09:00', 'author': 'SI', 'moddate': '2023-01-04T20:47:24+09:00', 'pdfversion': '1.4', 'source': './data\\\\2040_seoul_plan.pdf', 'total_pages': 195, 'page': 85, 'page_label': '86'}\n",
      "86제3장 부문별 전략계획제4절기후·환경 부문1. 개요Ÿ기후변화는 21세기에 전(全)지구적으로 가장 위중한 영향을 미칠 것으로 예상되며, 시민 생활의 모든 측면과 연관되어 있어 향후 서울시의 적극적인 대응이 필요하다.Ÿ탄소중립 목표뿐만 아니라 미세먼지로부터 시민 건강을 지키기 위해서는 건물, 교통, 에너지 등 도시의 주요 인프라 전반의 혁신이 요구되며, 이를 위해 새로운 기술과 혁신적 제도가 필요하다. 제로에너지 건물, 친환경 차량 및 교통 인프라의 확대, 자원·에너지 순환 기반 조성으로 온실가스와 미세먼지 배출량을 획기적으로 감축해야 한다. Ÿ기후변화에 따른 폭염, 풍수해, 도심열섬현상 등 기후재난 및 극한 기후현상이 심해질 것으로 전망되어 보다 능동적인 대비가 필요하다. Ÿ한편, 환경보존과 쾌적한 도시환경을 위해 도심 곳곳 시민 모두가 누릴 수 있는 도심숲과 생활공원 등 녹색공간을 조성하고, 이를 수변 공간과 연계하여 풍부하고 지속가능한 자연환경이 확보될 수 있도록 한다.Ÿ장기적인 측면에서 시민 개개인과 기업 등 다양한 도시 내 행위자의 적극적인 협조가 필수적이며 이를 위해 중앙정부 및 서울시 환경계획 담당부서와 협력적이고 포용적인 거버넌스 체계를 구축하도록 한다.목표 전략3-12050 탄소중립 실현을 위한 도시 인프라 전환3- 1- 1건물 부문의 탄소배출을 감축하기 위한 친환경 기술 개발 및 적극 적용3- 1- 2미래 모빌리티 기술 활용과 친환경 수송 차량 및 관련 인프라 확충3- 1- 3에너지 전환을 위한 청정에너지 기반 구축3- 1- 4대기 환경을 고려한 공간계획과 배출원 관리체계 강화3-2건강한 순환도시 조성을 위한자립적인 자원순환 체계 구축3- 2- 1자원순환·관리 자립을 위한 분산형 폐기물처리 시설 구축3- 2- 2기후 행동 포용적 거버넌스 구축을 위한 시민 행동 활성화3-3사람과 자연의 공존을 위한친환경 생태도시 구축3- 3- 1건물 에너지 분야 효율성 개선 및 도심 속 생물 다양성 확보3- 3- 2지속가능한 통합 물순환 체계 구축3-4다양한\n"
     ]
    }
   ],
   "source": [
    "retriever = vectorstore.as_retriever(search_kwargs={'k': 5})\n",
    "\n",
    "chunks = retriever.invoke(\"서울 온실가스 저감 계획\")\n",
    "\n",
    "for chunk in chunks:\n",
    "    print(chunk.metadata)\n",
    "    print(chunk.page_content)"
   ]
  },
  {
   "cell_type": "markdown",
   "id": "00b14308",
   "metadata": {},
   "source": [
    "### 언어 모델 설정하기"
   ]
  },
  {
   "cell_type": "code",
   "execution_count": 11,
   "id": "29b6d9ef",
   "metadata": {},
   "outputs": [
    {
     "data": {
      "text/plain": [
       "AIMessage(content='안녕하세요! 어떻게 도와드릴까요?', additional_kwargs={'refusal': None}, response_metadata={'token_usage': {'completion_tokens': 10, 'prompt_tokens': 9, 'total_tokens': 19, 'completion_tokens_details': {'accepted_prediction_tokens': 0, 'audio_tokens': 0, 'reasoning_tokens': 0, 'rejected_prediction_tokens': 0}, 'prompt_tokens_details': {'audio_tokens': 0, 'cached_tokens': 0}}, 'model_name': 'gpt-4o-mini-2024-07-18', 'system_fingerprint': 'fp_d77b305a29', 'id': 'chatcmpl-CBcIjV9aTuJ0oRn1RVOeNs2rA2i3y', 'service_tier': 'default', 'finish_reason': 'stop', 'logprobs': None}, id='run--d46fc43e-6c11-46d9-be1c-63b24bd86f1b-0', usage_metadata={'input_tokens': 9, 'output_tokens': 10, 'total_tokens': 19, 'input_token_details': {'audio': 0, 'cache_read': 0}, 'output_token_details': {'audio': 0, 'reasoning': 0}})"
      ]
     },
     "execution_count": 11,
     "metadata": {},
     "output_type": "execute_result"
    }
   ],
   "source": [
    "from langchain_openai import ChatOpenAI\n",
    "\n",
    "# 모델 초기화\n",
    "model = ChatOpenAI(model = 'gpt-4o-mini')\n",
    "model.invoke(\"안녕하세요\")"
   ]
  },
  {
   "cell_type": "markdown",
   "id": "0bddbfa6",
   "metadata": {},
   "source": [
    "### 라우터 설정하기"
   ]
  },
  {
   "cell_type": "code",
   "execution_count": 13,
   "id": "de952ce7",
   "metadata": {},
   "outputs": [],
   "source": [
    "# 라우터 설정\n",
    "from typing import Literal\n",
    "from pydantic import BaseModel, Field\n",
    "\n",
    "# Data model\n",
    "class RouteQuery(BaseModel):\n",
    "    \"\"\"사용자 쿼리를 가장 관련성이 높은 데이터 소스로 라우팅 합니다.\"\"\"\n",
    "\n",
    "    datasource: Literal[\"vectorstore\", \"casual_talk\"] = Field(\n",
    "        ...,\n",
    "        description=\"\"\"\n",
    "        사용자 질문에 따라 casual_talk 또는 vectorstore로 라우팅합니다.\n",
    "        - casual_talk: 일상 대화를 위한 데이터 소스. 사용자가 일상적인 질문을 할 때 사용합니다.\n",
    "        - vectorstore: 사용자 질문에 답하기 위해 RAG로 vectorstore 검색이 필요한 경우 사용합니다.\n",
    "        \"\"\",\n",
    "    )"
   ]
  },
  {
   "cell_type": "markdown",
   "id": "71b4e70a",
   "metadata": {},
   "source": [
    "### 사용자 질문 받고 판단하기"
   ]
  },
  {
   "cell_type": "code",
   "execution_count": 18,
   "id": "687417ac",
   "metadata": {},
   "outputs": [],
   "source": [
    "from langchain_core.prompts import ChatPromptTemplate\n",
    "\n",
    "# 특정 모델을 structured output(구조화된 출력)과 함께 사용하기 위해 설정\n",
    "structured_llm_router = model.with_structured_output(RouteQuery)\n",
    "\n",
    "router_system = \"\"\"\n",
    "당신은 사용자의 질문을 vectorstore 또는 casual_talk으로 라우팅하는 전문가입니다.\n",
    "- vectorstore에는 서울, 뉴욕의 발전계획과 관련된 문서가 포함되어 있습니다. 이 주제에 대한 질문에는 vectorstore를 사용하십시오.\n",
    "- 사용자의 질문이 일상 대화에 관련된 경우 casual_talk을 사용하십시오.\n",
    "\"\"\"\n",
    "\n",
    "# 시스템 메시지와 사용자의 질문을 포함하는 프롬프트 템플릿 생성\n",
    "router_prompt = ChatPromptTemplate.from_messages([\n",
    "    (\"system\", router_system),\n",
    "    (\"human\", \"{question}\")\n",
    "])\n",
    "\n",
    "# 라우터 프롬프트와 구조화된 출력 모델을 결합한 객체\n",
    "question_router = router_prompt | structured_llm_router"
   ]
  },
  {
   "cell_type": "markdown",
   "id": "30a4abca",
   "metadata": {},
   "source": [
    "### 결과 출력하기"
   ]
  },
  {
   "cell_type": "code",
   "execution_count": 19,
   "id": "c727d326",
   "metadata": {},
   "outputs": [
    {
     "name": "stdout",
     "output_type": "stream",
     "text": [
      "datasource='vectorstore'\n",
      "datasource='casual_talk'\n"
     ]
    }
   ],
   "source": [
    "print(\n",
    "    question_router.invoke({\n",
    "        \"question\": \"서울 온실가스 저감 계획은 무엇인가요?\"\n",
    "    })\n",
    ")\n",
    "\n",
    "print(question_router.invoke({\"question\": \"오늘 날씨가 어때?\"}))"
   ]
  },
  {
   "cell_type": "markdown",
   "id": "72b8cc3b",
   "metadata": {},
   "source": [
    "### GradeDocuments 클래스 만들기"
   ]
  },
  {
   "cell_type": "code",
   "execution_count": 20,
   "id": "c9d23e24",
   "metadata": {},
   "outputs": [],
   "source": [
    "from langchain_core.prompts import PromptTemplate\n",
    "\n",
    "class GradeDocuments(BaseModel):\n",
    "    \"\"\"검색된 문서가 질문과 관련성 있는지 yes 또는 no로 평가합니다.\"\"\"\n",
    "\n",
    "    binary_score: Literal[\"yes\", \"no\"] = Field(\n",
    "        description=\"문서가 질문과 관련이 있는지 여부를 'yes' 또는 'no'로 평가합니다.\"\n",
    "    )\n",
    "\n",
    "structured_llm_grader = model.with_structured_output(GradeDocuments)"
   ]
  },
  {
   "cell_type": "markdown",
   "id": "166abf27",
   "metadata": {},
   "source": [
    "### 프롬프트 작성하고 테스트하기"
   ]
  },
  {
   "cell_type": "code",
   "execution_count": 21,
   "id": "08eb55fc",
   "metadata": {},
   "outputs": [
    {
     "name": "stdout",
     "output_type": "stream",
     "text": [
      "page_content='62제2장 미래상과 목표5. 기술발전에 선제적 대응, ‘미래교통 인프라 구축’1) 배경미래 교통수단 도입에 따른 도시 활동 변화 및 공간구조 재편 대비Ÿ빠르게 진화하는 미래 신 교통수단은 도시공간에 새로운 변화를 일으킬 것이며, 도시 내 이동패턴의 변화를 가져올 것으로 예측된다. 이러한 점을 고려하여 도시 내 다양한 통행행태가 공존하는 포용적인 교통체계 구축을 준비해야 한다.미래교통수단 정착을 위한 도시 인프라 확충지원 필요Ÿ기존에 없던 새로운 교통은, 통상 인프라 구축에 많은 시간이 소요되기 때문에 교통수단 도입이 된 다음 준비하기보다는 개발단계에서부터 이를 지원하기 위한 교통인프라 구축 구상이 요구되며, 새로운 도시 인프라 확충에 대한 도시계획적 지원이 필요하다.2) 추진전략자율주행 자동차 본격 운영 체계 구축Ÿ자율주행은 현재 제일 가시화되고 있는 미래 교통기술로 시장의 주도권을 확보하기 위해 각국의 노력이 집중되고 있다. 단계적으로 2030년까지 간선도로급 이상 도로에서 운영할 수 있는 도로 인프라 환경을 조성하고, 2040년까지 서울 전역 자율주행 운행 환경 구축을 목표로 한다.-2040년까지 서울 전역 자율주행차량의 운행 환경을 구축하고 수송 분담률 10%를 달성서울형 도심 항공교통 기반 마련 및 터미널 확충Ÿ도심에서 김포공항까지 시범노선을 운영하는 등 상용화 노선을 확보하고, 장기적으로 한강, 지천 등 주요 수변 공간 중심으로 광역노선을 확보한다. 또한 UAM 인프라 확보를 위한 인센티브 및 도시계획적인 지원 방안도 함께 검토한다.-UAM 시범노선을 운영하고, 한강 등 주요 수변 공간 중심에 단계적 광역노선을 확장서울 전역에 모빌리티 허브 구축Ÿ도심 및 광역거점에서는 서울 내부와 외부의 연계를 위한 미래 교통과 기존 교통을 연결하는 시설을 도입한다. 또한 교통뿐 아니라 공공서비스, 물류, 상업 등 다양한 기능들이 복합적으로 제공되는 지역 거점 모빌리티 허브를 서울 전역에 도입한다.' metadata={'producer': 'Hancom PDF 1.3.0.542', 'creator': 'Hwp 2020 11.0.0.4643', 'creationdate': '2023-01-04T20:47:24+09:00', 'author': 'SI', 'moddate': '2023-01-04T20:47:24+09:00', 'pdfversion': '1.4', 'source': './data\\\\2040_seoul_plan.pdf', 'total_pages': 195, 'page': 61, 'page_label': '62'}\n",
      "page_content='98제3장 부문별 전략계획5-1 미래교통수단과 융합을 위한 선제적 교통환경 구축5-1-1 신 교통수단·기술발전 등 미래 환경 변화에 대비한 인프라 구축·정비ŸUAM·전기차·자율주행차 등 미래교통수단의 상용화에 대비하여 첨단 기반시설과 빅데이터 플랫폼 등을 확충한다.-자율주행차의 시범 운영지역의 확대, 지역 거점별 특성에 맞는 다양한 서비스 구현, 서울 전역을 연결하는 자율주행 버스노선 설계 등-도로정밀지도, 교통데이터 등을 갖춘 스마트 도로 인프라 구축을 단계적·지속적으로 확대-미래 변화에 따라 도시계획시설의 기준, 건축법, 주차장법 등 제도적 개선방안 마련Ÿ항공 모빌리티의 친화성이 높은 지역을 중심으로 관련 인프라와 안전한 운영체계를 구축 및 기존 교통체계와 연결을 도모하고 개발사업 추진 시에도 이에 대한 연계를 고려한다.5-1-2 통합 모빌리티 플랫폼 개발 지속 추진Ÿ도시공간의 위계에 따라 유형별 모빌리티 허브를 조성하여, 교통수단 간 편리한 환승을 지원하고 교통 외 다양한 도시 기능이 통합적으로 제공될 수 있는 모빌리티 플랫폼 공간을 조성한다.-광역형: 서울 및 수도권의 주요 거점과 GTX, UAM 등 광역교통망을 연계하는 복합환승센터를 구축하고, 공공·상업시설 등 도시서비스를 제공하는 스마트 물류 플랫폼 구축-지역형: 4개 권역을 중심으로 하는 간선 통행거점 및 물류거점을 조성하고 공영주차장, 차고지 등 기존교통시설 입체화 추진 -근린형: 개인형 이동장치(PM: Personal Mobility), 공유형 이동 수단 등에 대한 공유시설, 소규모 주차장, 정류소 등 기존 교통시설과 접목Ÿ기존의 교통수단과 자율주행자동차, UAM, 마이크로모빌리티 등 새롭게 등장하는 다양한 교통수단을 통합하여 관제하고 운영·관리할 수 있는 기반을 조성한다.Ÿ대중교통 중심의 통합 모빌리티 플랫폼을 구축하여 다양한 이동 수단에 대한 정보를 통합하고 최적의 통합교통 서비스(MaaS: Mobility as a Service)를 제공하여, 교통의 효율성을 제고한다.Ÿ각종 교통 규제를' metadata={'producer': 'Hancom PDF 1.3.0.542', 'creator': 'Hwp 2020 11.0.0.4643', 'creationdate': '2023-01-04T20:47:24+09:00', 'author': 'SI', 'moddate': '2023-01-04T20:47:24+09:00', 'pdfversion': '1.4', 'source': './data\\\\2040_seoul_plan.pdf', 'total_pages': 195, 'page': 97, 'page_label': '98'}\n",
      "page_content='명확히 설정하고, 2040 서울도시기본계획에서 새롭게 제시하는 공간구조인 보행일상권을 실현하기 12) 맹다미 외, 2022, 미래 여건변화에 대응하는 도시계획체계 개편방안 연구, 서울연구원' metadata={'producer': 'Hancom PDF 1.3.0.542', 'creator': 'Hwp 2020 11.0.0.4643', 'creationdate': '2023-01-04T20:47:24+09:00', 'author': 'SI', 'moddate': '2023-01-04T20:47:24+09:00', 'pdfversion': '1.4', 'source': './data\\\\2040_seoul_plan.pdf', 'total_pages': 195, 'page': 182, 'page_label': '183'}\n",
      "page_content='44제2장 미래상과 목표Ÿ심화되는 글로벌 도시경쟁에 대응하여 서울의 미래 경쟁력을 확보하기 위해 지속가능한 산업 정책과 도시공간 구조의 개편이 필요하다.6) 미래교통수단의 등장과 첨단 인프라 요구 증대자율주행, UAM 등 미래 교통에 공간적 대응방안 마련 필요Ÿ자율주행차량, 전동킥보드 등 교통 기술의 발전에 따라 새로운 교통환경이 조성되고 있음에도 불구하고, 이에 대한 정착 가이드라인이 없어, 위험한 교통 사고가 유발되고 있다.-최근 3년간 서울시에서 발생한 전동 킥보드 관련 사고 대다수는 전동 킥보드와 차량 간 충돌 사고Ÿ안전하고 효율적인 기존-신규 교통수단의 조화를 도모하고, 이와 함께 발생할 도시 공간구조 변화에 대비하기 위해 통합적인 교통수단 정착 가이드라인이 필요하다.7) 시가지 공간의 포화, 개발가용지의 부족새로운 도시공간에 대한 수요 대응과 성장동력 확보 한계Ÿ서울의 녹지지역을 제외한 대부분의 개발가용지는 고갈된 상태이며, 남은 공간은 주택공급을 위주로 개발하고 있다.-서울시에서 개발제한구역 25%를 제외하면 65%에 해당하는 시가화면적 366㎢ 중 미개발지는 거의 없는 상태Ÿ외연적 팽창이 아닌, 선택과 집중을 통한 콤팩트 시티로의 공간구조 재편을 지향하고 복합 개발을 통해 약해진 도시경쟁력 강화가 필요한 시점이다.8) 늙어가는 서울, 도시 정비의 정체에 따른 환경 악화정비사업 추진동력 저하, 쾌적한 도시환경에 대한 요구 증대Ÿ2038년 서울시 기반시설 노후화 비율은 2018년 대비 2.7배 급증, 1960~70년대 집중 조성된 기반시설의 노후화에 따른 시설 안전성 확보가 필요하다.-2040년, 서울 전체 주택 중 노후 물량 50%로 추정\n",
      "<그림 2-19> 서울시 전동킥보드 사고 추이자료: 서울시 소방재난본부' metadata={'producer': 'Hancom PDF 1.3.0.542', 'creator': 'Hwp 2020 11.0.0.4643', 'creationdate': '2023-01-04T20:47:24+09:00', 'author': 'SI', 'moddate': '2023-01-04T20:47:24+09:00', 'pdfversion': '1.4', 'source': './data\\\\2040_seoul_plan.pdf', 'total_pages': 195, 'page': 43, 'page_label': '44'}\n",
      "page_content='2040 서울도시기본계획 보고서2022' metadata={'producer': 'Hancom PDF 1.3.0.542', 'creator': 'Hwp 2020 11.0.0.4643', 'creationdate': '2023-01-04T20:47:24+09:00', 'author': 'SI', 'moddate': '2023-01-04T20:47:24+09:00', 'pdfversion': '1.4', 'source': './data\\\\2040_seoul_plan.pdf', 'total_pages': 195, 'page': 0, 'page_label': '1'}\n"
     ]
    }
   ],
   "source": [
    "grader_prompt = PromptTemplate.from_template(\"\"\"\n",
    "당신은 검색된 문서가 사용자 질문과 관련이 있는지 평가하는 평가자입니다. \\n\n",
    "문서에 사용자 질문과 관련된 키워드 또는 의미가 포함되어 있으면, 해당 문서를 관련성이 있다고 평가하십시오. \\n\n",
    "엄격한 테스트가 필요하지 않습니다. 목표는 잘못된 검색 결과를 걸러내는 것입니다. \\n\n",
    "문서가 질문과 관련이 있는지 여부를 나타내기 위해 'yes' 또는 'no'로 이진 점수를 부여하십시오.\n",
    "\n",
    "Retrieved document: \\n {document} \\n\\n\n",
    "User question: {question} \n",
    "\"\"\")\n",
    "\n",
    "retrieval_grader = grader_prompt | structured_llm_grader\n",
    "question = \"서울시 자율주행 관련 계획\"\n",
    "documents = retriever.invoke(question)\n",
    "\n",
    "for doc in documents:\n",
    "    print(doc)"
   ]
  },
  {
   "cell_type": "markdown",
   "id": "6097a0da",
   "metadata": {},
   "source": [
    "### 관련된 청크만 리스트에 추가하기"
   ]
  },
  {
   "cell_type": "code",
   "execution_count": 22,
   "id": "553e3bdb",
   "metadata": {},
   "outputs": [
    {
     "name": "stdout",
     "output_type": "stream",
     "text": [
      "Document 1:\n",
      "binary_score='yes'\n",
      "62제2장 미래상과 목표5. 기술발전에 선제적 대응, ‘미래교통 인프라 구축’1) 배경미래 교통수단 도입에 따른 도시 활동 변화 및 공간구조 재편 대비Ÿ빠르게 진화하는 미래 신 교통수단은 도시공간에 새로운 변화를 일으킬 것이며, 도시 내 이동패턴의 변화를 가져올 것으로 예측된다. 이러한 점을 고려하여 도시 내 다양한 통행행태가 공존하는 포용적인 교통체계 구\n",
      "==============================\n",
      "\n",
      "\n",
      "Document 2:\n",
      "binary_score='yes'\n",
      "98제3장 부문별 전략계획5-1 미래교통수단과 융합을 위한 선제적 교통환경 구축5-1-1 신 교통수단·기술발전 등 미래 환경 변화에 대비한 인프라 구축·정비ŸUAM·전기차·자율주행차 등 미래교통수단의 상용화에 대비하여 첨단 기반시설과 빅데이터 플랫폼 등을 확충한다.-자율주행차의 시범 운영지역의 확대, 지역 거점별 특성에 맞는 다양한 서비스 구현, 서울 전역\n",
      "==============================\n",
      "\n",
      "\n",
      "Document 3:\n",
      "binary_score='no'\n",
      "명확히 설정하고, 2040 서울도시기본계획에서 새롭게 제시하는 공간구조인 보행일상권을 실현하기 12) 맹다미 외, 2022, 미래 여건변화에 대응하는 도시계획체계 개편방안 연구, 서울연구원\n",
      "==============================\n",
      "\n",
      "\n",
      "Document 4:\n",
      "binary_score='yes'\n",
      "44제2장 미래상과 목표Ÿ심화되는 글로벌 도시경쟁에 대응하여 서울의 미래 경쟁력을 확보하기 위해 지속가능한 산업 정책과 도시공간 구조의 개편이 필요하다.6) 미래교통수단의 등장과 첨단 인프라 요구 증대자율주행, UAM 등 미래 교통에 공간적 대응방안 마련 필요Ÿ자율주행차량, 전동킥보드 등 교통 기술의 발전에 따라 새로운 교통환경이 조성되고 있음에도 불구하고\n",
      "==============================\n",
      "\n",
      "\n",
      "Document 5:\n",
      "binary_score='yes'\n",
      "2040 서울도시기본계획 보고서2022\n",
      "==============================\n",
      "\n",
      "\n",
      "Filtered documents: 4\n"
     ]
    }
   ],
   "source": [
    "filtered_docs = []\n",
    "\n",
    "for i, doc in enumerate(documents):\n",
    "    print(f\"Document {i+1}:\")\n",
    "    is_relevant = retrieval_grader.invoke({\"question\": question, \"document\": doc.page_content})\n",
    "    print(is_relevant)\n",
    "    print(doc.page_content[:200])\n",
    "    print(\"==============================\\n\\n\")\n",
    "\n",
    "    if is_relevant.binary_score == \"yes\":\n",
    "        filtered_docs.append(doc)\n",
    "\n",
    "print(f\"Filtered documents: {len(filtered_docs)}\")"
   ]
  },
  {
   "cell_type": "markdown",
   "id": "56f4667a",
   "metadata": {},
   "source": [
    "### RAG를 위한 프롬프트 생성하기"
   ]
  },
  {
   "cell_type": "code",
   "execution_count": 23,
   "id": "7ac0a2ae",
   "metadata": {},
   "outputs": [
    {
     "data": {
      "text/plain": [
       "AIMessage(content='서울시 자율주행 관련 계획은 2030년까지 자율주행 자동차의 본격 운영 체계를 구축하고, 2040년까지 서울 전역에서 자율주행 차의 운행 환경을 구축하는 것을 목표로 하고 있습니다. 구체적으로, 간선도로급 이상의 도로에서 자율주행을 운영할 수 있는 인프라 환경을 구축하며, 자율주행 차량의 수송 분담률을 10% 달성하는 것을 주요 목표로 하고 있습니다.\\n\\n또한, 서울시는 도심 항공교통(UAM)의 기반 마련 및 터미널 확충을 통해 도심과 김포공항을 연결하는 시범 노선을 운영하고, 장기적으로는 주요 수변 공간을 중심으로 광역노선을 확보하는 방향으로 나아가고 있습니다. 이를 위해 서울 전역에 모빌리티 허브를 구축하여 다양한 교통수단 간의 연계를 지원하고, 공공 서비스, 물류, 상업 등 다양한 기능이 결합된 지역 거점을 마련할 계획입니다.\\n\\n서울시는 이러한 자율주행 및 교통 인프라 구축을 위해 스마트 도로 인프라와 빅데이터 플랫폼 등을 확충하고, 교통수단 간의 편리한 환승을 지원하기 위한 통합 모빌리티 플랫폼 개발도 지속적으로 추진할 예정입니다. 이를 통해 심화되는 도시 교통 문제를 해결하고, 미래 교통환경 변화에 적절하게 대응할 수 있는 기반을 마련하고자 합니다.', additional_kwargs={'refusal': None}, response_metadata={'token_usage': {'completion_tokens': 323, 'prompt_tokens': 2389, 'total_tokens': 2712, 'completion_tokens_details': {'accepted_prediction_tokens': 0, 'audio_tokens': 0, 'reasoning_tokens': 0, 'rejected_prediction_tokens': 0}, 'prompt_tokens_details': {'audio_tokens': 0, 'cached_tokens': 0}}, 'model_name': 'gpt-4o-mini-2024-07-18', 'system_fingerprint': 'fp_560af6e559', 'id': 'chatcmpl-CBcnI7Z9v2CdtoxXWdwI1fwNT0P2c', 'service_tier': 'default', 'finish_reason': 'stop', 'logprobs': None}, id='run--789d07c0-fe37-4a8a-bcc1-8c965469d850-0', usage_metadata={'input_tokens': 2389, 'output_tokens': 323, 'total_tokens': 2712, 'input_token_details': {'audio': 0, 'cache_read': 0}, 'output_token_details': {'audio': 0, 'reasoning': 0}})"
      ]
     },
     "execution_count": 23,
     "metadata": {},
     "output_type": "execute_result"
    }
   ],
   "source": [
    "### Generate\n",
    "# PromptTemplate을 사용해 RAG를 위한 프롬프트 생성\n",
    "\n",
    "rag_generate_system = \"\"\"\n",
    "너는 사용자의 질문에 대해 주어진 context에 기반하여 답변하는 도시 계획 전문가이다.\n",
    "주어진 context는 vectorstore에서 검색된 결과이다.\n",
    "주어진 context를 기반으로 사용자의 question에 대해 답변하라.\n",
    "\n",
    "=============================\n",
    "question: {question}\n",
    "context: {context}\n",
    "\"\"\"\n",
    "\n",
    "# PromptTemplate을 생성해 question과 context를 포매팅\n",
    "rag_prompt = PromptTemplate(\n",
    "    input_variables = [\"question\", \"context\"],\n",
    "    template=rag_generate_system\n",
    ")\n",
    "\n",
    "# rag chain\n",
    "rag_chain = rag_prompt | model\n",
    "\n",
    "# 사용자의 질문과 검색된 문서를 입력으로 사용해 RAG를 실행\n",
    "question = \"서울시 자율주행 관련 계획\"\n",
    "\n",
    "rag_chain.invoke({\"question\": question, \"context\": filtered_docs})"
   ]
  },
  {
   "cell_type": "markdown",
   "id": "626dd798",
   "metadata": {},
   "source": [
    "## 그래프 정의하기\n",
    "### 그래프 상태 선언하기"
   ]
  },
  {
   "cell_type": "code",
   "execution_count": 24,
   "id": "4c4ff9ca",
   "metadata": {},
   "outputs": [],
   "source": [
    "from typing import List\n",
    "from typing_extensions import TypedDict\n",
    "\n",
    "class GraphState(TypedDict):\n",
    "    question: str\n",
    "    generation: str\n",
    "    documents: List[str]"
   ]
  },
  {
   "cell_type": "markdown",
   "id": "be6c0749",
   "metadata": {},
   "source": [
    "### route_question 함수 만들기"
   ]
  },
  {
   "cell_type": "code",
   "execution_count": 25,
   "id": "13a09a50",
   "metadata": {},
   "outputs": [],
   "source": [
    "def route_question(state):\n",
    "    \"\"\"\n",
    "    사용자 질문을 vectorstore 또는 casual_talk로 라우팅합니다.\n",
    "\n",
    "    Args:\n",
    "        state (dict): 현재 graph state\n",
    "    \n",
    "    return:\n",
    "        state (dict): 라우팅된 데이터 소스와 사용자 질문을 포함하는 새로운 graph state\n",
    "    \"\"\"\n",
    "    print('-----------ROUTE----------')\n",
    "    question = state['question']\n",
    "    route = question_router.invoke({\"question\": question})\n",
    "\n",
    "    print(f\"----Routing to {route.datasource}----\")\n",
    "    return route.datasource"
   ]
  },
  {
   "cell_type": "markdown",
   "id": "bcb498fc",
   "metadata": {},
   "source": [
    "### retrieve 노드 정의하기"
   ]
  },
  {
   "cell_type": "code",
   "execution_count": 26,
   "id": "d51e0d69",
   "metadata": {},
   "outputs": [],
   "source": [
    "def retrieve(state):\n",
    "    \"\"\"\n",
    "    vectorstore에서 질문에 대한 문서를 검색합니다.\n",
    "\n",
    "    Args:\n",
    "        state (dict): 현재 graph state\n",
    "\n",
    "    return:\n",
    "        state (dict): 검색된 문서와 사용자 질문을 포함하는 새로운 graph state\n",
    "    \"\"\"\n",
    "    print('-----------RETRIEVE----------')\n",
    "    question = state['question']\n",
    "\n",
    "    # Retrieve documents\n",
    "    documents = retriever.invoke(question)\n",
    "    return {\"documents\": documents, \"question\": question}"
   ]
  },
  {
   "cell_type": "markdown",
   "id": "93ab5d45",
   "metadata": {},
   "source": [
    "### grade_documents 노드 정의하기"
   ]
  },
  {
   "cell_type": "code",
   "execution_count": 27,
   "id": "8d54eb40",
   "metadata": {},
   "outputs": [],
   "source": [
    "def grade_documents(state):\n",
    "    \"\"\"\n",
    "    검색된 문서를 평가하여 질문과 관련성이 있는지를 확인합니다.\n",
    "\n",
    "    Args:\n",
    "        state (dict): 현재 graph state\n",
    "    \n",
    "    return:\n",
    "        state (dict): 관련성이 있는 문서와 사용자 질문을 포함하는 새로운 graph state\n",
    "    \"\"\"\n",
    "    print('-----------GRADE----------')\n",
    "    question = state['question']\n",
    "    documents = state['documents']\n",
    "    filtered_docs = []\n",
    "\n",
    "    for i, doc in enumerate(documents):\n",
    "        is_relevant = retrieval_grader.invoke({\"question\": question, \"document\": doc.page_content})\n",
    "        if is_relevant.binary_score == \"yes\":\n",
    "            filtered_docs.append(doc)\n",
    "    return {\"documents\": filtered_docs, \"question\": question}"
   ]
  },
  {
   "cell_type": "markdown",
   "id": "10b45442",
   "metadata": {},
   "source": [
    "### generate 노드 정의하기"
   ]
  },
  {
   "cell_type": "code",
   "execution_count": 28,
   "id": "3902fc96",
   "metadata": {},
   "outputs": [],
   "source": [
    "def generate(state):\n",
    "    \"\"\"\n",
    "    LLM을 사용하여 문서와 사용자 질문에 대한 답변을 생성합니다.\n",
    "\n",
    "    Args:\n",
    "        state (dict): 현재 graph state\n",
    "    \n",
    "    return:\n",
    "        state (dict): LLM 생성 결과와 사용자 질문을 포함한느 새로운 graph state\n",
    "    \"\"\"\n",
    "    print('-----------GENERATE----------')\n",
    "    question = state['question']\n",
    "    documents = state['documents']\n",
    "    generation = rag_chain.invoke({\"question\": question, \"context\": documents})\n",
    "    return {\n",
    "        \"documents\": documents,\n",
    "        \"question\": question,\n",
    "        \"generation\": generation\n",
    "    }"
   ]
  },
  {
   "cell_type": "markdown",
   "id": "f051695e",
   "metadata": {},
   "source": [
    "### casual_talk 노드 정의하기"
   ]
  },
  {
   "cell_type": "code",
   "execution_count": 29,
   "id": "adbcaab6",
   "metadata": {},
   "outputs": [],
   "source": [
    "def casual_talk(state):\n",
    "    \"\"\"\n",
    "    일상 대화를 위한 답변을 생성합니다.\n",
    "\n",
    "    Args:\n",
    "        state (dict): 현재 graph state\n",
    "    \n",
    "    return:\n",
    "        state (dict): 일상 대화 결과와 사용자 질문을 포함하는 새로운 graph state\n",
    "    \"\"\"\n",
    "    print('-----------CASUAL TALK----------')\n",
    "    question = state['question']\n",
    "    generation = model.invoke(question)\n",
    "    return {\n",
    "        \"question\": question,\n",
    "        \"generation\": generation\n",
    "    }"
   ]
  },
  {
   "cell_type": "markdown",
   "id": "f3af1198",
   "metadata": {},
   "source": [
    "### StateGraph 객체 생성하기"
   ]
  },
  {
   "cell_type": "code",
   "execution_count": 31,
   "id": "9908ee0d",
   "metadata": {},
   "outputs": [],
   "source": [
    "from langgraph.graph import START, StateGraph, END\n",
    "\n",
    "workflow = StateGraph(GraphState)"
   ]
  },
  {
   "cell_type": "markdown",
   "id": "31494840",
   "metadata": {},
   "source": [
    "### 노드 등록하고 연결하기"
   ]
  },
  {
   "cell_type": "code",
   "execution_count": 32,
   "id": "aea274d3",
   "metadata": {},
   "outputs": [
    {
     "data": {
      "text/plain": [
       "<langgraph.graph.state.StateGraph at 0x2127f694890>"
      ]
     },
     "execution_count": 32,
     "metadata": {},
     "output_type": "execute_result"
    }
   ],
   "source": [
    "# 노드를 정의\n",
    "workflow.add_node(\"retrieve\", retrieve)\n",
    "workflow.add_node(\"grade_documents\", grade_documents)\n",
    "workflow.add_node(\"generate\", generate)\n",
    "workflow.add_node(\"casual_talk\", casual_talk)"
   ]
  },
  {
   "cell_type": "markdown",
   "id": "73c1a654",
   "metadata": {},
   "source": [
    "### 그래프 정의하기"
   ]
  },
  {
   "cell_type": "code",
   "execution_count": 33,
   "id": "083132f1",
   "metadata": {},
   "outputs": [],
   "source": [
    "workflow.add_conditional_edges(\n",
    "    START,\n",
    "    route_question,\n",
    "    {\n",
    "        \"vectorstore\": \"retrieve\",\n",
    "        \"casual_talk\": \"casual_talk\"\n",
    "    }\n",
    ")\n",
    "workflow.add_edge(\"casual_talk\", END)\n",
    "workflow.add_edge(\"retrieve\", \"grade_documents\")\n",
    "workflow.add_edge(\"grade_documents\", \"generate\")\n",
    "workflow.add_edge(\"generate\", END)\n",
    "\n",
    "app = workflow.compile()"
   ]
  },
  {
   "cell_type": "markdown",
   "id": "1674b9f1",
   "metadata": {},
   "source": [
    "### 그래프 출력하기"
   ]
  },
  {
   "cell_type": "code",
   "execution_count": 34,
   "id": "126fc5f1",
   "metadata": {},
   "outputs": [
    {
     "data": {
      "image/png": "[encoded data removed]",
      "text/plain": [
       "<IPython.core.display.Image object>"
      ]
     },
     "metadata": {},
     "output_type": "display_data"
    }
   ],
   "source": [
    "from IPython.display import Image, display\n",
    "\n",
    "try:\n",
    "    display(Image(app.get_graph().draw_mermaid_png()))\n",
    "except Exception:\n",
    "    pass"
   ]
  },
  {
   "cell_type": "markdown",
   "id": "72f34e27",
   "metadata": {},
   "source": [
    "### 멀티 에이전트에게 질문하기"
   ]
  },
  {
   "cell_type": "code",
   "execution_count": 35,
   "id": "774bfaeb",
   "metadata": {},
   "outputs": [
    {
     "name": "stdout",
     "output_type": "stream",
     "text": [
      "-----------ROUTE----------\n",
      "----Routing to vectorstore----\n",
      "-----------RETRIEVE----------\n",
      "-----------GRADE----------\n",
      "-----------GENERATE----------\n"
     ]
    },
    {
     "data": {
      "text/plain": [
       "{'question': '서울시 자율주행 계획',\n",
       " 'generation': AIMessage(content='서울시는 자율주행 자동차와 관련하여 미래 교통 기술의 선도적 도입을 목표로 하고 있습니다. 2030년까지 간선도로급 이상에서 자율주행차량을 운영할 수 있는 도로 인프라 환경을 조성하고, 2040년까지 서울 전역에 자율주행 운행 환경을 구축하는 것이 주요 목표입니다. 이 과정에서 수송 분담률 10%를 달성하는 것도 계획하고 있습니다.\\n\\n자율주행차를 포함한 미래 교통수단의 상용화를 위해, 첨단 기반시설과 빅데이터 플랫폼을 확대하고 도로 정밀지도와 교통 데이터를 갖춘 스마트 도로 인프라 구축을 지속적으로 추진할 예정입니다. 또한, 서울 전역에 모빌리티 허브를 구축하여 다양한 교통 수단 간의 원활한 환승을 지원하고, 관련 서비스와 기능이 통합된 공간으로 발전시킬 계획입니다.\\n\\n이와 더불어 혁신적인 교통 인프라 구축을 통해 UAM(도심 항공 모빌리티) 및 개인형 이동장치와 같은 새로운 교통 수단과의 연계도 고려하고 있습니다. 이는 미래 도시 환경에서의 사람들의 이동 방식을 변화시키고 도시 공간의 효율성을 높이는 데 기여할 것으로 예상됩니다.', additional_kwargs={'refusal': None}, response_metadata={'token_usage': {'completion_tokens': 289, 'prompt_tokens': 2290, 'total_tokens': 2579, 'completion_tokens_details': {'accepted_prediction_tokens': 0, 'audio_tokens': 0, 'reasoning_tokens': 0, 'rejected_prediction_tokens': 0}, 'prompt_tokens_details': {'audio_tokens': 0, 'cached_tokens': 0}}, 'model_name': 'gpt-4o-mini-2024-07-18', 'system_fingerprint': 'fp_560af6e559', 'id': 'chatcmpl-CBd3iZcZOQS4Nc3xFn7B43oTJwFxt', 'service_tier': 'default', 'finish_reason': 'stop', 'logprobs': None}, id='run--ef0882f2-e377-47d1-98a4-0d2078c7a622-0', usage_metadata={'input_tokens': 2290, 'output_tokens': 289, 'total_tokens': 2579, 'input_token_details': {'audio': 0, 'cache_read': 0}, 'output_token_details': {'audio': 0, 'reasoning': 0}}),\n",
       " 'documents': [Document(id='50355e4a-bd85-475e-990c-f9943543a0cf', metadata={'producer': 'Hancom PDF 1.3.0.542', 'creator': 'Hwp 2020 11.0.0.4643', 'creationdate': '2023-01-04T20:47:24+09:00', 'author': 'SI', 'moddate': '2023-01-04T20:47:24+09:00', 'pdfversion': '1.4', 'source': './data\\\\2040_seoul_plan.pdf', 'total_pages': 195, 'page': 61, 'page_label': '62'}, page_content='62제2장 미래상과 목표5. 기술발전에 선제적 대응, ‘미래교통 인프라 구축’1) 배경미래 교통수단 도입에 따른 도시 활동 변화 및 공간구조 재편 대비Ÿ빠르게 진화하는 미래 신 교통수단은 도시공간에 새로운 변화를 일으킬 것이며, 도시 내 이동패턴의 변화를 가져올 것으로 예측된다. 이러한 점을 고려하여 도시 내 다양한 통행행태가 공존하는 포용적인 교통체계 구축을 준비해야 한다.미래교통수단 정착을 위한 도시 인프라 확충지원 필요Ÿ기존에 없던 새로운 교통은, 통상 인프라 구축에 많은 시간이 소요되기 때문에 교통수단 도입이 된 다음 준비하기보다는 개발단계에서부터 이를 지원하기 위한 교통인프라 구축 구상이 요구되며, 새로운 도시 인프라 확충에 대한 도시계획적 지원이 필요하다.2) 추진전략자율주행 자동차 본격 운영 체계 구축Ÿ자율주행은 현재 제일 가시화되고 있는 미래 교통기술로 시장의 주도권을 확보하기 위해 각국의 노력이 집중되고 있다. 단계적으로 2030년까지 간선도로급 이상 도로에서 운영할 수 있는 도로 인프라 환경을 조성하고, 2040년까지 서울 전역 자율주행 운행 환경 구축을 목표로 한다.-2040년까지 서울 전역 자율주행차량의 운행 환경을 구축하고 수송 분담률 10%를 달성서울형 도심 항공교통 기반 마련 및 터미널 확충Ÿ도심에서 김포공항까지 시범노선을 운영하는 등 상용화 노선을 확보하고, 장기적으로 한강, 지천 등 주요 수변 공간 중심으로 광역노선을 확보한다. 또한 UAM 인프라 확보를 위한 인센티브 및 도시계획적인 지원 방안도 함께 검토한다.-UAM 시범노선을 운영하고, 한강 등 주요 수변 공간 중심에 단계적 광역노선을 확장서울 전역에 모빌리티 허브 구축Ÿ도심 및 광역거점에서는 서울 내부와 외부의 연계를 위한 미래 교통과 기존 교통을 연결하는 시설을 도입한다. 또한 교통뿐 아니라 공공서비스, 물류, 상업 등 다양한 기능들이 복합적으로 제공되는 지역 거점 모빌리티 허브를 서울 전역에 도입한다.'),\n",
       "  Document(id='93000ebe-9f21-4502-8d02-2603d09fa3af', metadata={'producer': 'Hancom PDF 1.3.0.542', 'creator': 'Hwp 2020 11.0.0.4643', 'creationdate': '2023-01-04T20:47:24+09:00', 'author': 'SI', 'moddate': '2023-01-04T20:47:24+09:00', 'pdfversion': '1.4', 'source': './data\\\\2040_seoul_plan.pdf', 'total_pages': 195, 'page': 53, 'page_label': '54'}, page_content='54제2장 미래상과 목표고 있고, 공간의 제약없이 24시간 어디서든지 여가문화를 향유하고자 하는 욕구가 늘어나고, 자율주행 및 개인형 이동장치(PM: Personal Mobility) 등 새로운 이동패턴의 수요가 늘고 있다.Ÿ개인이 선택하는 유연한 근무시간과 업무공간, 스마트 기술로 인하여 늘어나는 여가시간의 활용, 업무·쇼핑·교육·문화의 중심으로 부상하는 복합주거공간 등 변화하는 미래 생활양식을 담을 수 있는 새로운 공간이 필요하다.안전하고 쾌적하게 보행으로 도시기능을 해결하는 ‘보행일상권’ 조성Ÿ뉴노멀시대 미래 서울은 초연결과 용도복합이 이루어지는 ‘융복합 도시’, 보행과 PM 등 저탄소 미래교통수단이 중심이 되고 내가 살아가는 장소가 도시공간의 중심이 되는 ‘마이크로시티’ 경향에 대응해야 한다.Ÿ주거, 업무, 여가 기능이 통합·연계하여 변화된 생활양식을 동네 보행권 단위에서 누릴 수 있도록 자족적인 생활권을 구성하는 ‘보행일상권’이 미래 변화된 삶의 양식을 담을 그릇이 될 것이다.Ÿ이를 위해서는 생활권의 특성과 수요에 따라 특화 기능 및 공급 서비스 계획, 주거환경 개선, 공공공간 조성, 접근성 확보, 안전한 생활환경 조성 등에 대한 선별적인 고려가 필요하다.<보행일상권의 개념>∙‘보행일상권’이란 내가 사는 집을 중심으로 주거를 비롯한 업무·소비·여가·문화 등 다양한 활동을 도보 30분 내로 걸어서 누릴 수 있는 자족적인 생활권을 의미∙디지털 대전환과 팬데믹으로 시공간의 제약이 사라지고 주거가 일상생활의 중심으로 부상하면서 달라진 시민 생활양식을 반영한 도시공간의 새로운 개념으로, 더 이상 멀리 이동하지 않고도 ‘나’의 생활반경 안에서 다양한 기능을 누릴 수 있도록 하는 것∙기존에 수립한 116개 지역생활권을 기준으로 주거·상업·업무·여가문화 기능이 융복합하도록 재구성하여 자족적이고 탄소중립적이며 감염병에 안전한 새로운 서울형 생활권 단위를 의미2) 추진전략다양한 기능을 복합적으로 갖춘 자립적 생활권 형성Ÿ도보 30분 반경에서 주거·일자리·여가·상업 등'),\n",
       "  Document(id='a5f26eec-da85-41e0-98a1-326f89d27542', metadata={'producer': 'Hancom PDF 1.3.0.542', 'creator': 'Hwp 2020 11.0.0.4643', 'creationdate': '2023-01-04T20:47:24+09:00', 'author': 'SI', 'moddate': '2023-01-04T20:47:24+09:00', 'pdfversion': '1.4', 'source': './data\\\\2040_seoul_plan.pdf', 'total_pages': 195, 'page': 97, 'page_label': '98'}, page_content='98제3장 부문별 전략계획5-1 미래교통수단과 융합을 위한 선제적 교통환경 구축5-1-1 신 교통수단·기술발전 등 미래 환경 변화에 대비한 인프라 구축·정비ŸUAM·전기차·자율주행차 등 미래교통수단의 상용화에 대비하여 첨단 기반시설과 빅데이터 플랫폼 등을 확충한다.-자율주행차의 시범 운영지역의 확대, 지역 거점별 특성에 맞는 다양한 서비스 구현, 서울 전역을 연결하는 자율주행 버스노선 설계 등-도로정밀지도, 교통데이터 등을 갖춘 스마트 도로 인프라 구축을 단계적·지속적으로 확대-미래 변화에 따라 도시계획시설의 기준, 건축법, 주차장법 등 제도적 개선방안 마련Ÿ항공 모빌리티의 친화성이 높은 지역을 중심으로 관련 인프라와 안전한 운영체계를 구축 및 기존 교통체계와 연결을 도모하고 개발사업 추진 시에도 이에 대한 연계를 고려한다.5-1-2 통합 모빌리티 플랫폼 개발 지속 추진Ÿ도시공간의 위계에 따라 유형별 모빌리티 허브를 조성하여, 교통수단 간 편리한 환승을 지원하고 교통 외 다양한 도시 기능이 통합적으로 제공될 수 있는 모빌리티 플랫폼 공간을 조성한다.-광역형: 서울 및 수도권의 주요 거점과 GTX, UAM 등 광역교통망을 연계하는 복합환승센터를 구축하고, 공공·상업시설 등 도시서비스를 제공하는 스마트 물류 플랫폼 구축-지역형: 4개 권역을 중심으로 하는 간선 통행거점 및 물류거점을 조성하고 공영주차장, 차고지 등 기존교통시설 입체화 추진 -근린형: 개인형 이동장치(PM: Personal Mobility), 공유형 이동 수단 등에 대한 공유시설, 소규모 주차장, 정류소 등 기존 교통시설과 접목Ÿ기존의 교통수단과 자율주행자동차, UAM, 마이크로모빌리티 등 새롭게 등장하는 다양한 교통수단을 통합하여 관제하고 운영·관리할 수 있는 기반을 조성한다.Ÿ대중교통 중심의 통합 모빌리티 플랫폼을 구축하여 다양한 이동 수단에 대한 정보를 통합하고 최적의 통합교통 서비스(MaaS: Mobility as a Service)를 제공하여, 교통의 효율성을 제고한다.Ÿ각종 교통 규제를')]}"
      ]
     },
     "execution_count": 35,
     "metadata": {},
     "output_type": "execute_result"
    }
   ],
   "source": [
    "inputs = {\n",
    "    \"question\": \"서울시 자율주행 계획\"\n",
    "}\n",
    "\n",
    "app.invoke(inputs)"
   ]
  },
  {
   "cell_type": "markdown",
   "id": "2dc0b433",
   "metadata": {},
   "source": [
    "### 워크플로 확인하기"
   ]
  },
  {
   "cell_type": "code",
   "execution_count": 36,
   "id": "12f5a9e8",
   "metadata": {},
   "outputs": [
    {
     "name": "stdout",
     "output_type": "stream",
     "text": [
      "-----------ROUTE----------\n",
      "----Routing to casual_talk----\n",
      "-----------CASUAL TALK----------\n"
     ]
    },
    {
     "data": {
      "text/plain": [
       "{'question': '잘 지내고 있어?',\n",
       " 'generation': AIMessage(content='네, 잘 지내고 있습니다! 당신은 어떻게 지내세요? 궁금한 점이나 이야기하고 싶은 주제가 있으면 말씀해 주세요.', additional_kwargs={'refusal': None}, response_metadata={'token_usage': {'completion_tokens': 31, 'prompt_tokens': 13, 'total_tokens': 44, 'completion_tokens_details': {'accepted_prediction_tokens': 0, 'audio_tokens': 0, 'reasoning_tokens': 0, 'rejected_prediction_tokens': 0}, 'prompt_tokens_details': {'audio_tokens': 0, 'cached_tokens': 0}}, 'model_name': 'gpt-4o-mini-2024-07-18', 'system_fingerprint': 'fp_8bda4d3a2c', 'id': 'chatcmpl-CBd4Yx0wTZRyWKJkL1RCp51fjBgEx', 'service_tier': 'default', 'finish_reason': 'stop', 'logprobs': None}, id='run--1539f0df-27c4-4b49-8a15-880a9fbb4309-0', usage_metadata={'input_tokens': 13, 'output_tokens': 31, 'total_tokens': 44, 'input_token_details': {'audio': 0, 'cache_read': 0}, 'output_token_details': {'audio': 0, 'reasoning': 0}})}"
      ]
     },
     "execution_count": 36,
     "metadata": {},
     "output_type": "execute_result"
    }
   ],
   "source": [
    "inputs = {\n",
    "    \"question\": \"잘 지내고 있어?\"\n",
    "}\n",
    "\n",
    "app.invoke(inputs)"
   ]
  },
  {
   "cell_type": "markdown",
   "id": "7e86d9e5",
   "metadata": {},
   "source": [
    "### 스트림 방식으로 출력하기"
   ]
  },
  {
   "cell_type": "code",
   "execution_count": 37,
   "id": "9061a340",
   "metadata": {},
   "outputs": [
    {
     "name": "stdout",
     "output_type": "stream",
     "text": [
      "-----------ROUTE----------\n",
      "{\"datasource\":\"vectorstore\"}----Routing to vectorstore----\n",
      "-----------RETRIEVE----------\n",
      "-----------GRADE----------\n",
      "{\"binary_score\":\"yes\"}{\"binary_score\":\"yes\"}{\"binary_score\":\"yes\"}{\"binary_score\":\"yes\"}{\"binary_score\":\"yes\"}-----------GENERATE----------\n",
      "서울시의 자율주행 차량 계획은 다음과 같습니다:\n",
      "\n",
      "1. **운영 체계 구축**: 서울시는 자율주행 차량을 본격적으로 운영할 수 있는 체계를 2030년까지 간선도로급 이상 도로에서 구축할 계획입니다. 최종 목표는 2040년까지 서울 전역에서 자율주행 차가 운행될 수 있는 환경을 조성하는 것입니다. 자율주행차의 수송 분담률 10%를 달성하는 것을 목표로 하고 있습니다.\n",
      "\n",
      "2. **인프라 확충**: 자율주행차의 도입에 대비하여 도시 내 다양한 통행행태가 공존할 수 있는 포용적인 교통체계 구축이 필요합니다. 이를 위해 새로운 교통수단에 맞는 인프라를 개발 단계부터 계획하고 지원해야 합니다.\n",
      "\n",
      "3. **스마트 도로 인프라**: 자율주행차의 시범 운영지역을 확대하고, 서울 전역을 연결하는 자율주행 버스 노선을 설계하는 것을 포함하여, 도로 정밀지도와 교통 데이터 등을 갖춘 스마트 도로 인프라를 단계적으로 확립할 계획입니다.\n",
      "\n",
      "4. **모빌리티 허브 구축**: 도심 및 광역거점에서 미래 교통과 기존 교통을 연결하는 시설을 도입하여 서울 전역에 다양한 기능을 갖춘 모빌리티 허브를 구축할 예정입니다.\n",
      "\n",
      "이러한 계획은 자율주행차를 포함한 새로운 교통수단의 안전하고 효율적인 정착을 위한 기반을 마련하기 위한 것입니다."
     ]
    }
   ],
   "source": [
    "inputs = {\n",
    "    \"question\": \"서울시 자율주행 차량 계획은 무엇이 있나요?\"\n",
    "}\n",
    "\n",
    "for msg, meta in app.stream(inputs, stream_mode=\"messages\"):\n",
    "    print(msg.content, end=\"\")"
   ]
  }
 ],
 "metadata": {
  "kernelspec": {
   "display_name": "AI",
   "language": "python",
   "name": "python3"
  },
  "language_info": {
   "codemirror_mode": {
    "name": "ipython",
    "version": 3
   },
   "file_extension": ".py",
   "mimetype": "text/x-python",
   "name": "python",
   "nbconvert_exporter": "python",
   "pygments_lexer": "ipython3",
   "version": "3.11.9"
  }
 },
 "nbformat": 4,
 "nbformat_minor": 5
}
