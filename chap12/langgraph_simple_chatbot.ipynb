{
 "cells": [
  {
   "cell_type": "markdown",
   "id": "00f341d0",
   "metadata": {},
   "source": [
    "### 랭그래프 설치하기"
   ]
  },
  {
   "cell_type": "code",
   "execution_count": 1,
   "id": "76d522a7",
   "metadata": {},
   "outputs": [
    {
     "name": "stdout",
     "output_type": "stream",
     "text": [
      "Collecting langgraph\n",
      "  Downloading langgraph-0.6.6-py3-none-any.whl.metadata (6.8 kB)\n",
      "Requirement already satisfied: langchain-core>=0.1 in c:\\users\\1\\desktop\\study_ai_agent\\study_ai_agent\\ai\\lib\\site-packages (from langgraph) (0.3.75)\n",
      "Collecting langgraph-checkpoint<3.0.0,>=2.1.0 (from langgraph)\n",
      "  Downloading langgraph_checkpoint-2.1.1-py3-none-any.whl.metadata (4.2 kB)\n",
      "Collecting langgraph-prebuilt<0.7.0,>=0.6.0 (from langgraph)\n",
      "  Downloading langgraph_prebuilt-0.6.4-py3-none-any.whl.metadata (4.5 kB)\n",
      "Collecting langgraph-sdk<0.3.0,>=0.2.2 (from langgraph)\n",
      "  Downloading langgraph_sdk-0.2.4-py3-none-any.whl.metadata (1.5 kB)\n",
      "Requirement already satisfied: pydantic>=2.7.4 in c:\\users\\1\\desktop\\study_ai_agent\\study_ai_agent\\ai\\lib\\site-packages (from langgraph) (2.11.7)\n",
      "Collecting xxhash>=3.5.0 (from langgraph)\n",
      "  Downloading xxhash-3.5.0-cp312-cp312-win_amd64.whl.metadata (13 kB)\n",
      "Requirement already satisfied: langsmith>=0.3.45 in c:\\users\\1\\desktop\\study_ai_agent\\study_ai_agent\\ai\\lib\\site-packages (from langchain-core>=0.1->langgraph) (0.4.21)\n",
      "Requirement already satisfied: tenacity!=8.4.0,<10.0.0,>=8.1.0 in c:\\users\\1\\desktop\\study_ai_agent\\study_ai_agent\\ai\\lib\\site-packages (from langchain-core>=0.1->langgraph) (9.1.2)\n",
      "Requirement already satisfied: jsonpatch<2.0,>=1.33 in c:\\users\\1\\desktop\\study_ai_agent\\study_ai_agent\\ai\\lib\\site-packages (from langchain-core>=0.1->langgraph) (1.33)\n",
      "Requirement already satisfied: PyYAML>=5.3 in c:\\users\\1\\desktop\\study_ai_agent\\study_ai_agent\\ai\\lib\\site-packages (from langchain-core>=0.1->langgraph) (6.0.2)\n",
      "Requirement already satisfied: typing-extensions>=4.7 in c:\\users\\1\\desktop\\study_ai_agent\\study_ai_agent\\ai\\lib\\site-packages (from langchain-core>=0.1->langgraph) (4.15.0)\n",
      "Requirement already satisfied: packaging>=23.2 in c:\\users\\1\\desktop\\study_ai_agent\\study_ai_agent\\ai\\lib\\site-packages (from langchain-core>=0.1->langgraph) (25.0)\n",
      "Collecting ormsgpack>=1.10.0 (from langgraph-checkpoint<3.0.0,>=2.1.0->langgraph)\n",
      "  Downloading ormsgpack-1.10.0-cp312-cp312-win_amd64.whl.metadata (44 kB)\n",
      "Requirement already satisfied: httpx>=0.25.2 in c:\\users\\1\\desktop\\study_ai_agent\\study_ai_agent\\ai\\lib\\site-packages (from langgraph-sdk<0.3.0,>=0.2.2->langgraph) (0.28.1)\n",
      "Requirement already satisfied: orjson>=3.10.1 in c:\\users\\1\\desktop\\study_ai_agent\\study_ai_agent\\ai\\lib\\site-packages (from langgraph-sdk<0.3.0,>=0.2.2->langgraph) (3.11.3)\n",
      "Requirement already satisfied: annotated-types>=0.6.0 in c:\\users\\1\\desktop\\study_ai_agent\\study_ai_agent\\ai\\lib\\site-packages (from pydantic>=2.7.4->langgraph) (0.7.0)\n",
      "Requirement already satisfied: pydantic-core==2.33.2 in c:\\users\\1\\desktop\\study_ai_agent\\study_ai_agent\\ai\\lib\\site-packages (from pydantic>=2.7.4->langgraph) (2.33.2)\n",
      "Requirement already satisfied: typing-inspection>=0.4.0 in c:\\users\\1\\desktop\\study_ai_agent\\study_ai_agent\\ai\\lib\\site-packages (from pydantic>=2.7.4->langgraph) (0.4.1)\n",
      "Requirement already satisfied: anyio in c:\\users\\1\\desktop\\study_ai_agent\\study_ai_agent\\ai\\lib\\site-packages (from httpx>=0.25.2->langgraph-sdk<0.3.0,>=0.2.2->langgraph) (4.10.0)\n",
      "Requirement already satisfied: certifi in c:\\users\\1\\desktop\\study_ai_agent\\study_ai_agent\\ai\\lib\\site-packages (from httpx>=0.25.2->langgraph-sdk<0.3.0,>=0.2.2->langgraph) (2025.8.3)\n",
      "Requirement already satisfied: httpcore==1.* in c:\\users\\1\\desktop\\study_ai_agent\\study_ai_agent\\ai\\lib\\site-packages (from httpx>=0.25.2->langgraph-sdk<0.3.0,>=0.2.2->langgraph) (1.0.9)\n",
      "Requirement already satisfied: idna in c:\\users\\1\\desktop\\study_ai_agent\\study_ai_agent\\ai\\lib\\site-packages (from httpx>=0.25.2->langgraph-sdk<0.3.0,>=0.2.2->langgraph) (3.10)\n",
      "Requirement already satisfied: h11>=0.16 in c:\\users\\1\\desktop\\study_ai_agent\\study_ai_agent\\ai\\lib\\site-packages (from httpcore==1.*->httpx>=0.25.2->langgraph-sdk<0.3.0,>=0.2.2->langgraph) (0.16.0)\n",
      "Requirement already satisfied: jsonpointer>=1.9 in c:\\users\\1\\desktop\\study_ai_agent\\study_ai_agent\\ai\\lib\\site-packages (from jsonpatch<2.0,>=1.33->langchain-core>=0.1->langgraph) (3.0.0)\n",
      "Requirement already satisfied: requests-toolbelt>=1.0.0 in c:\\users\\1\\desktop\\study_ai_agent\\study_ai_agent\\ai\\lib\\site-packages (from langsmith>=0.3.45->langchain-core>=0.1->langgraph) (1.0.0)\n",
      "Requirement already satisfied: requests>=2.0.0 in c:\\users\\1\\desktop\\study_ai_agent\\study_ai_agent\\ai\\lib\\site-packages (from langsmith>=0.3.45->langchain-core>=0.1->langgraph) (2.32.5)\n",
      "Requirement already satisfied: zstandard>=0.23.0 in c:\\users\\1\\desktop\\study_ai_agent\\study_ai_agent\\ai\\lib\\site-packages (from langsmith>=0.3.45->langchain-core>=0.1->langgraph) (0.24.0)\n",
      "Requirement already satisfied: charset_normalizer<4,>=2 in c:\\users\\1\\desktop\\study_ai_agent\\study_ai_agent\\ai\\lib\\site-packages (from requests>=2.0.0->langsmith>=0.3.45->langchain-core>=0.1->langgraph) (3.4.3)\n",
      "Requirement already satisfied: urllib3<3,>=1.21.1 in c:\\users\\1\\desktop\\study_ai_agent\\study_ai_agent\\ai\\lib\\site-packages (from requests>=2.0.0->langsmith>=0.3.45->langchain-core>=0.1->langgraph) (2.5.0)\n",
      "Requirement already satisfied: sniffio>=1.1 in c:\\users\\1\\desktop\\study_ai_agent\\study_ai_agent\\ai\\lib\\site-packages (from anyio->httpx>=0.25.2->langgraph-sdk<0.3.0,>=0.2.2->langgraph) (1.3.1)\n",
      "Downloading langgraph-0.6.6-py3-none-any.whl (153 kB)\n",
      "Downloading langgraph_checkpoint-2.1.1-py3-none-any.whl (43 kB)\n",
      "Downloading langgraph_prebuilt-0.6.4-py3-none-any.whl (28 kB)\n",
      "Downloading langgraph_sdk-0.2.4-py3-none-any.whl (53 kB)\n",
      "Downloading xxhash-3.5.0-cp312-cp312-win_amd64.whl (30 kB)\n",
      "Downloading ormsgpack-1.10.0-cp312-cp312-win_amd64.whl (121 kB)\n",
      "Installing collected packages: xxhash, ormsgpack, langgraph-sdk, langgraph-checkpoint, langgraph-prebuilt, langgraph\n",
      "Successfully installed langgraph-0.6.6 langgraph-checkpoint-2.1.1 langgraph-prebuilt-0.6.4 langgraph-sdk-0.2.4 ormsgpack-1.10.0 xxhash-3.5.0\n",
      "Note: you may need to restart the kernel to use updated packages.\n"
     ]
    },
    {
     "name": "stderr",
     "output_type": "stream",
     "text": [
      "\n",
      "[notice] A new release of pip is available: 24.2 -> 25.2\n",
      "[notice] To update, run: python.exe -m pip install --upgrade pip\n"
     ]
    }
   ],
   "source": [
    "%pip install langgraph"
   ]
  },
  {
   "cell_type": "markdown",
   "id": "e3c95912",
   "metadata": {},
   "source": [
    "### GPT 모델 설정하기"
   ]
  },
  {
   "cell_type": "code",
   "execution_count": 2,
   "id": "8d97474c",
   "metadata": {},
   "outputs": [
    {
     "data": {
      "text/plain": [
       "AIMessage(content='안녕하세요! 어떻게 도와드릴까요?', additional_kwargs={'refusal': None}, response_metadata={'token_usage': {'completion_tokens': 10, 'prompt_tokens': 9, 'total_tokens': 19, 'completion_tokens_details': {'accepted_prediction_tokens': 0, 'audio_tokens': 0, 'reasoning_tokens': 0, 'rejected_prediction_tokens': 0}, 'prompt_tokens_details': {'audio_tokens': 0, 'cached_tokens': 0}}, 'model_name': 'gpt-4o-mini-2024-07-18', 'system_fingerprint': 'fp_560af6e559', 'id': 'chatcmpl-CBPAHrHxXqZeBhKA6lwTO2BowE8wW', 'service_tier': 'default', 'finish_reason': 'stop', 'logprobs': None}, id='run--27b9cfbb-819f-4b19-8b9b-bcd808f96779-0', usage_metadata={'input_tokens': 9, 'output_tokens': 10, 'total_tokens': 19, 'input_token_details': {'audio': 0, 'cache_read': 0}, 'output_token_details': {'audio': 0, 'reasoning': 0}})"
      ]
     },
     "execution_count": 2,
     "metadata": {},
     "output_type": "execute_result"
    }
   ],
   "source": [
    "from langchain_openai import ChatOpenAI\n",
    "from dotenv import load_dotenv\n",
    "import os\n",
    "\n",
    "load_dotenv()\n",
    "\n",
    "api_key = os.getenv(\"OPENAI_API_KEY\")\n",
    "\n",
    "# 모델 초기화\n",
    "model = ChatOpenAI(model=\"gpt-4o-mini\", api_key=api_key)\n",
    "model.invoke(\"안녕하세요\")"
   ]
  },
  {
   "cell_type": "markdown",
   "id": "eaf97523",
   "metadata": {},
   "source": [
    "### 상태 정의하기"
   ]
  },
  {
   "cell_type": "code",
   "execution_count": 12,
   "id": "c9307468",
   "metadata": {},
   "outputs": [],
   "source": [
    "from typing import Annotated\n",
    "from typing_extensions import TypedDict\n",
    "\n",
    "from langgraph.graph import StateGraph, START, END\n",
    "from langgraph.graph.message import add_messages\n",
    "\n",
    "class State(TypedDict):\n",
    "    \"\"\"\n",
    "    State 클래스는 TypeDict를 상속받습니다.\n",
    "\n",
    "    속성:\n",
    "        messages (Annotated[list[str], add_messages]): 메세지들은 \"list\" 타입을 가집니다.\n",
    "        'add_messages' 함수는 이 상태 키가 어떻게 업데이트 되어야 하는지를 정의합니다.\n",
    "        (이 경우, 메세지를 덮어쓰는 대신 리스트에 추가합니다)\n",
    "    \"\"\"\n",
    "    messages: Annotated[list[str], add_messages]\n",
    "\n",
    "# StateGraph 클래스를 사용하여 State 타입의 그래프 생성\n",
    "graph_builder = StateGraph(State)"
   ]
  },
  {
   "cell_type": "markdown",
   "id": "d60f182d",
   "metadata": {},
   "source": [
    "### 노드 생성하기"
   ]
  },
  {
   "cell_type": "code",
   "execution_count": 13,
   "id": "8482d202",
   "metadata": {},
   "outputs": [
    {
     "data": {
      "text/plain": [
       "<langgraph.graph.state.StateGraph at 0x1b1ce5f5fa0>"
      ]
     },
     "execution_count": 13,
     "metadata": {},
     "output_type": "execute_result"
    }
   ],
   "source": [
    "def generate(state: State):\n",
    "    \"\"\"\n",
    "    주어진 상태를 기반으로 챗봇의 응답 메시지를 생성합니다.\n",
    "\n",
    "    매개변수:\n",
    "    state (State): 현재 대화 상태를 나타내는 객체로, 이전 메시지들이 포함되어 있습니다.\n",
    "\n",
    "    반환값:\n",
    "    dict: 모델이 생성한 응답 메시지를 포함하는 딕셔너리\n",
    "        형식은 {\"messages\": [응답 메시지]} 입니다.\n",
    "    \"\"\"\n",
    "    return {\"messages\": [model.invoke(state[\"messages\"])]}\n",
    "\n",
    "graph_builder.add_node(\"generate\", generate)"
   ]
  },
  {
   "cell_type": "markdown",
   "id": "f20e27f8",
   "metadata": {},
   "source": [
    "### graph 선언하기"
   ]
  },
  {
   "cell_type": "code",
   "execution_count": 14,
   "id": "ccc70811",
   "metadata": {},
   "outputs": [],
   "source": [
    "graph_builder.add_edge(START, \"generate\")\n",
    "graph_builder.add_edge(\"generate\", END)\n",
    "\n",
    "graph = graph_builder.compile()"
   ]
  },
  {
   "cell_type": "markdown",
   "id": "b1643c09",
   "metadata": {},
   "source": [
    "### 그래프 도식화하기"
   ]
  },
  {
   "cell_type": "code",
   "execution_count": 15,
   "id": "cbc58a7f",
   "metadata": {},
   "outputs": [
    {
     "data": {
      "image/png": "[encoded data removed]",
      "text/plain": [
       "<IPython.core.display.Image object>"
      ]
     },
     "metadata": {},
     "output_type": "display_data"
    }
   ],
   "source": [
    "from IPython.display import Image, display\n",
    "\n",
    "try:\n",
    "    display(Image(graph.get_graph().draw_mermaid_png()))\n",
    "except Exception:\n",
    "    pass"
   ]
  },
  {
   "cell_type": "markdown",
   "id": "e9a5594d",
   "metadata": {},
   "source": [
    "### 리스트에 문장 추가하기"
   ]
  },
  {
   "cell_type": "code",
   "execution_count": 16,
   "id": "5da823ee",
   "metadata": {},
   "outputs": [
    {
     "name": "stdout",
     "output_type": "stream",
     "text": [
      "<class 'dict'>\n"
     ]
    },
    {
     "data": {
      "text/plain": [
       "{'messages': [HumanMessage(content='안녕하세요! 저는 이시현입니다.', additional_kwargs={}, response_metadata={}, id='50ccbf2f-98c6-430c-a7a3-08756897ee57'),\n",
       "  AIMessage(content='안녕하세요, 이시현님! 반갑습니다. 어떻게 도와드릴까요?', additional_kwargs={'refusal': None}, response_metadata={'token_usage': {'completion_tokens': 19, 'prompt_tokens': 16, 'total_tokens': 35, 'completion_tokens_details': {'accepted_prediction_tokens': 0, 'audio_tokens': 0, 'reasoning_tokens': 0, 'rejected_prediction_tokens': 0}, 'prompt_tokens_details': {'audio_tokens': 0, 'cached_tokens': 0}}, 'model_name': 'gpt-4o-mini-2024-07-18', 'system_fingerprint': 'fp_560af6e559', 'id': 'chatcmpl-CBPP7DPhIcEXBNA39xPtYOc6StXa1', 'service_tier': 'default', 'finish_reason': 'stop', 'logprobs': None}, id='run--c5d89b54-f5d3-4204-9c5e-8bb531376764-0', usage_metadata={'input_tokens': 16, 'output_tokens': 19, 'total_tokens': 35, 'input_token_details': {'audio': 0, 'cache_read': 0}, 'output_token_details': {'audio': 0, 'reasoning': 0}})]}"
      ]
     },
     "execution_count": 16,
     "metadata": {},
     "output_type": "execute_result"
    }
   ],
   "source": [
    "response = graph.invoke({\"messages\": [\"안녕하세요! 저는 이시현입니다.\"]})\n",
    "\n",
    "print(type(response))\n",
    "response"
   ]
  },
  {
   "cell_type": "markdown",
   "id": "e7b37076",
   "metadata": {},
   "source": [
    "### 이전 대화 내용에 새 메시지 추가하기"
   ]
  },
  {
   "cell_type": "code",
   "execution_count": 17,
   "id": "43d11d31",
   "metadata": {},
   "outputs": [
    {
     "data": {
      "text/plain": [
       "{'messages': [HumanMessage(content='안녕하세요! 저는 이시현입니다.', additional_kwargs={}, response_metadata={}, id='50ccbf2f-98c6-430c-a7a3-08756897ee57'),\n",
       "  AIMessage(content='안녕하세요, 이시현님! 반갑습니다. 어떻게 도와드릴까요?', additional_kwargs={'refusal': None}, response_metadata={'token_usage': {'completion_tokens': 19, 'prompt_tokens': 16, 'total_tokens': 35, 'completion_tokens_details': {'accepted_prediction_tokens': 0, 'audio_tokens': 0, 'reasoning_tokens': 0, 'rejected_prediction_tokens': 0}, 'prompt_tokens_details': {'audio_tokens': 0, 'cached_tokens': 0}}, 'model_name': 'gpt-4o-mini-2024-07-18', 'system_fingerprint': 'fp_560af6e559', 'id': 'chatcmpl-CBPP7DPhIcEXBNA39xPtYOc6StXa1', 'service_tier': 'default', 'finish_reason': 'stop', 'logprobs': None}, id='run--c5d89b54-f5d3-4204-9c5e-8bb531376764-0', usage_metadata={'input_tokens': 16, 'output_tokens': 19, 'total_tokens': 35, 'input_token_details': {'audio': 0, 'cache_read': 0}, 'output_token_details': {'audio': 0, 'reasoning': 0}}),\n",
       "  HumanMessage(content='제 이름을 아시나요?', additional_kwargs={}, response_metadata={}, id='b7b881fb-b914-455c-b0d4-8b669932d5d9'),\n",
       "  AIMessage(content='네, 이시현님이라고 말씀하셨죠! 무엇에 대해 이야기하고 싶으신가요?', additional_kwargs={'refusal': None}, response_metadata={'token_usage': {'completion_tokens': 23, 'prompt_tokens': 50, 'total_tokens': 73, 'completion_tokens_details': {'accepted_prediction_tokens': 0, 'audio_tokens': 0, 'reasoning_tokens': 0, 'rejected_prediction_tokens': 0}, 'prompt_tokens_details': {'audio_tokens': 0, 'cached_tokens': 0}}, 'model_name': 'gpt-4o-mini-2024-07-18', 'system_fingerprint': 'fp_e665f7564b', 'id': 'chatcmpl-CBPQ2azukiJSjyzSslbA76Pi6KYEg', 'service_tier': 'default', 'finish_reason': 'stop', 'logprobs': None}, id='run--d682ea77-9dfd-4f48-bbe8-677ea09968c6-0', usage_metadata={'input_tokens': 50, 'output_tokens': 23, 'total_tokens': 73, 'input_token_details': {'audio': 0, 'cache_read': 0}, 'output_token_details': {'audio': 0, 'reasoning': 0}})]}"
      ]
     },
     "execution_count": 17,
     "metadata": {},
     "output_type": "execute_result"
    }
   ],
   "source": [
    "response[\"messages\"].append(\"제 이름을 아시나요?\")\n",
    "graph.invoke(response)"
   ]
  },
  {
   "cell_type": "markdown",
   "id": "0d9a37b1",
   "metadata": {},
   "source": [
    "### 스트림 방식으로 출력하기"
   ]
  },
  {
   "cell_type": "code",
   "execution_count": 19,
   "id": "f2fb0277",
   "metadata": {},
   "outputs": [
    {
     "name": "stdout",
     "output_type": "stream",
     "text": [
      "한국과 일본의 관계는 역사적으로 복잡하고, 여러 차원에서 변화해 왔습니다. 이 두 나라의 관계는 정치적, 경제적, 문화적 측면에서 여러 가지 논쟁과 협력 사례가 혼재해 있습니다. 다음은 한국과 일본 관계의 주요 사항입니다.\n",
      "\n",
      "### 1. 역사적 배경\n",
      "- **일제강점기**: 1910년부터 1945년까지 한국은 일본의 식민 지배를 받았습니다. 이 기간 동안 많은 한국인들이 고통을 겪었고, 강제 징용, 일본군 위안부 문제 등 여러 인권 유린 사건이 발생했습니다.\n",
      "- **해방 이후**: 1945년 제2차 세계대전의 종전과 함께 한국은 해방되었으나, 역사 문제는 여전히 양국 간의 갈등의 주요 요인이 되고 있습니다.\n",
      "\n",
      "### 2. 정치적 관계\n",
      "- **위안부 문제**: 일본군 위안부 문제는 두 나라 간의 감정적 불화를 심화시키는 큰 이슈입니다. 한국은 일본 정부의 공식적 사과와 법적 배상을 요구하고 있습니다.\n",
      "- **독도/다케시마 문제**: 독도는 한국이 실효 지배하고 있는 섬이지만, 일본은 \"다케시마\"라고 부르며 sovereignty를 주장하고 있습니다. 이로 인해 양국 간의 영토 갈등이 존재합니다.\n",
      "- **역사 교과서**: 일본의 역사 교과서에서 일제 강점기에 대한 서술 방식이 한국과의 갈등을 일으키기도 합니다. 한국은 일본의 역사를 미화하거나 왜곡했다고 주장하고 있습니다.\n",
      "\n",
      "### 3. 경제적 관계\n",
      "- **무역**: 한국과 일본은 서로 중요한 무역 파트너입니다. 일본은 한국의 주요 수출국 중 하나이며, 반도체, 자동차 부품 등에서 협력이 이루어지고 있습니다.\n",
      "- **수출 규제**: 2019년 일본이 한국에 대한 반도체 관련 품목의 수출 규제를 강화한 사건은 두 국가 간의 경제적 긴장을 더욱 심화시켰습니다. 이는 한국의 경제에 큰 영향을 미쳤으며, 양국 간의 경제적 관계에 심각한 타격을 주었습니다.\n",
      "\n",
      "### 4. 문화적 관계\n",
      "- **K-POP과 일본의 J-POP**: 한국의 대중문화가 일본에서 큰 인기를 얻으며 양국 간의 문화교류가 활발해졌습니다. K-POP 아티스트들이 일본 시장에서도 성공을 거두고 있습니다.\n",
      "- **관광**: 양국 간의 관광도 활발하며, 많은 한국인들이 일본을 방문하고, 일본인들도 한국을 찾고 있습니다.\n",
      "\n",
      "### 5. 현대적 맥락\n",
      "- **외교적 노력**: 최근 몇 년 동안 한국과 일본의 정부는 갈등을 해결하기 위한 여러 외교적 노력을 기울이고 있으나, 역사 문제와 경제적 마찰 등으로 인해 실질적인 개선은 쉽지 않은 상황입니다.\n",
      "- **안보 협력**: 북한의 핵 위협과 같은 안보 문제에 대응하기 위해 한국과 일본은 미국과 함께 협력하고 있습니다. 그러나 정치적 갈등으로 인해 이러한 협력이 항상 원활하지는 않습니다.\n",
      "\n",
      "결론적으로, 한국과 일본의 관계는 역사적 상처와 현대적 갈등이 얽혀 있는 복잡한 상황입니다. 양국 간의 협력과 이해 증진을 위한 지속적인 노력이 필요합니다."
     ]
    }
   ],
   "source": [
    "inputs = {\"messages\": [(\"human\", \"한국과 일본의 관계에 대해 자세히 알려 줘.\")]}\n",
    "for chunk, _ in graph.stream(inputs, stream_mode=\"messages\"):\n",
    "    print(chunk.content, end=\"\")"
   ]
  }
 ],
 "metadata": {
  "kernelspec": {
   "display_name": "AI",
   "language": "python",
   "name": "python3"
  },
  "language_info": {
   "codemirror_mode": {
    "name": "ipython",
    "version": 3
   },
   "file_extension": ".py",
   "mimetype": "text/x-python",
   "name": "python",
   "nbconvert_exporter": "python",
   "pygments_lexer": "ipython3",
   "version": "3.12.7"
  }
 },
 "nbformat": 4,
 "nbformat_minor": 5
}
