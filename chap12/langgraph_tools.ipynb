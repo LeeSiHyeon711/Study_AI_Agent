{
 "cells": [
  {
   "cell_type": "markdown",
   "id": "2dbc8b4a",
   "metadata": {},
   "source": [
    "### 언어 모델 설정하기"
   ]
  },
  {
   "cell_type": "code",
   "execution_count": 3,
   "id": "1e510765",
   "metadata": {},
   "outputs": [
    {
     "data": {
      "text/plain": [
       "AIMessage(content='안녕하세요! 어떻게 도와드릴까요?', additional_kwargs={'refusal': None}, response_metadata={'token_usage': {'completion_tokens': 10, 'prompt_tokens': 9, 'total_tokens': 19, 'completion_tokens_details': {'accepted_prediction_tokens': 0, 'audio_tokens': 0, 'reasoning_tokens': 0, 'rejected_prediction_tokens': 0}, 'prompt_tokens_details': {'audio_tokens': 0, 'cached_tokens': 0}}, 'model_name': 'gpt-4o-mini-2024-07-18', 'system_fingerprint': 'fp_d77b305a29', 'id': 'chatcmpl-CBb800oQZOLN9a7vKCWHy0JMNz3XM', 'service_tier': 'default', 'finish_reason': 'stop', 'logprobs': None}, id='run--f1996e78-0b76-4e20-8202-2da200257f2a-0', usage_metadata={'input_tokens': 9, 'output_tokens': 10, 'total_tokens': 19, 'input_token_details': {'audio': 0, 'cache_read': 0}, 'output_token_details': {'audio': 0, 'reasoning': 0}})"
      ]
     },
     "execution_count": 3,
     "metadata": {},
     "output_type": "execute_result"
    }
   ],
   "source": [
    "from langchain_openai import ChatOpenAI\n",
    "import os\n",
    "import dotenv\n",
    "\n",
    "# .env에서 api 키 가져오기\n",
    "dotenv.load_dotenv()\n",
    "\n",
    "# 모델 초기화\n",
    "model = ChatOpenAI(model=\"gpt-4o-mini\", temperature=0.01, api_key=os.getenv(\"OPENAI_API_KEY\"))\n",
    "model.invoke(\"안녕하세요\")"
   ]
  },
  {
   "cell_type": "markdown",
   "id": "c45df2fe",
   "metadata": {},
   "source": [
    "### 상태 설정하기"
   ]
  },
  {
   "cell_type": "code",
   "execution_count": 4,
   "id": "582138c6",
   "metadata": {},
   "outputs": [],
   "source": [
    "from typing import Annotated\n",
    "from typing_extensions import TypedDict\n",
    "\n",
    "from langgraph.graph import StateGraph, START, END\n",
    "from langgraph.graph.message import add_messages\n",
    "\n",
    "class State(TypedDict):\n",
    "    \"\"\"\n",
    "    State 클래스는 TypedDict를 상속받습니다.\n",
    "\n",
    "    속성:\n",
    "        messages (Annotated[list[str], add_messages]): 메시지들은 \"list\" 타입을 가집니다.\n",
    "        주석에 있는 'add_messages' 함수는 이 상태 키가 어떻게 업데이트되어야 하는지를 정의합니다.\n",
    "        (이 경우, 메시지를 덮어쓰는 대신 리스트에 추가합니다.)\n",
    "    \"\"\"\n",
    "    messages: Annotated[list[str], add_messages]\n",
    "\n",
    "# StateGraph 클래스를 사용하여 State 타입의 그래프 생성\n",
    "graph_builder = StateGraph(State)"
   ]
  },
  {
   "cell_type": "markdown",
   "id": "d32c69c2",
   "metadata": {},
   "source": [
    "### 도구 등록하기"
   ]
  },
  {
   "cell_type": "code",
   "execution_count": 5,
   "id": "ff275a98",
   "metadata": {},
   "outputs": [
    {
     "name": "stderr",
     "output_type": "stream",
     "text": [
      "USER_AGENT environment variable not set, consider setting it to identify your requests.\n"
     ]
    }
   ],
   "source": [
    "from langchain_core.tools import tool\n",
    "from datetime import datetime\n",
    "import pytz\n",
    "from langchain_community.utilities import SerpAPIWrapper\n",
    "from dotenv import load_dotenv\n",
    "import os\n",
    "\n",
    "# .env 키 값 가져오기\n",
    "load_dotenv()\n",
    "SERP_API_KEY = os.getenv(\"SERP_API_KEY\")\n",
    "\n",
    "import bs4\n",
    "from langchain_community.document_loaders import WebBaseLoader\n",
    "\n",
    "# 도구 함수 정의\n",
    "@tool\n",
    "def get_current_time(timezone: str, location: str) -> str:\n",
    "    \"\"\"현재 시각을 반환하는 함수\"\"\"\n",
    "    try:\n",
    "        tz = pytz.timezone(timezone)\n",
    "        now = datetime.now(tz).strftime(\"%Y-%m-%d %H:%M:%S\")\n",
    "        result = f'{timezone} ({location}) 현재 시각 {now}'\n",
    "\n",
    "        return result\n",
    "    except pytz.UnknownTimeZoneError:\n",
    "        return f\"알 수 없는 타임존: {timezone}\"\n",
    "\n",
    "@tool\n",
    "def get_web_search(query: str, search_period: str='m')-> str:\n",
    "    \"\"\"\n",
    "    웹 검색을 수행하는 함수 (SerpAPI 사용)\n",
    "    \n",
    "    Args:\n",
    "        query (str): 검색어\n",
    "        search_period (str): 검색 기간(e.g., \"w\" for past week (default), \"m\" for past month, \"y\" for past year, \"d\" for past day)\n",
    "    \n",
    "    Returns:\n",
    "        str: 검색 결과\n",
    "    \"\"\"\n",
    "    try:\n",
    "        # API 키 확인\n",
    "        if not SERP_API_KEY:\n",
    "            return \"SERP_API_KEY가 설정되지 않았습니다. .env 파일에 SERP_API_KEY를 추가하세요.\"\n",
    "        \n",
    "        # SerpAPI 사용 (API 키 전달)\n",
    "        serpapi_wrapper = SerpAPIWrapper(serpapi_api_key=SERP_API_KEY)\n",
    "        \n",
    "        print('\\n-------WEB SEARCH-------')\n",
    "        print(f'검색어: {query}')\n",
    "        print(f'검색 기간: {search_period}')\n",
    "        \n",
    "        # SerpAPI로 검색 실행\n",
    "        results = serpapi_wrapper.run(query)\n",
    "        \n",
    "        print(f'검색 결과: {results}')\n",
    "        return results\n",
    "        \n",
    "    except Exception as e:\n",
    "        error_msg = f\"검색 중 오류 발생: {str(e)}\"\n",
    "        print(error_msg)\n",
    "        return error_msg\n",
    "\n",
    "# 도구 바인딩\n",
    "tools = [get_current_time, get_web_search]"
   ]
  },
  {
   "cell_type": "markdown",
   "id": "701dd902",
   "metadata": {},
   "source": [
    "### 현재 시각을 얻는 도구 get_current_time 실행 테스트하기"
   ]
  },
  {
   "cell_type": "code",
   "execution_count": 6,
   "id": "87ffd254",
   "metadata": {},
   "outputs": [
    {
     "data": {
      "text/plain": [
       "'Asia/Seoul (서울) 현재 시각 2025-09-03 15:19:27'"
      ]
     },
     "execution_count": 6,
     "metadata": {},
     "output_type": "execute_result"
    }
   ],
   "source": [
    "tools[0].invoke({\"timezone\": \"Asia/Seoul\", \"location\": \"서울\"})"
   ]
  },
  {
   "cell_type": "markdown",
   "id": "75dfdef0",
   "metadata": {},
   "source": [
    "### 웹 검색 도구 get_web_search 실행 테스트하기"
   ]
  },
  {
   "cell_type": "code",
   "execution_count": 7,
   "id": "81d41550",
   "metadata": {},
   "outputs": [
    {
     "name": "stdout",
     "output_type": "stream",
     "text": [
      "\n",
      "-------WEB SEARCH-------\n",
      "검색어: 파이썬\n",
      "검색 기간: m\n",
      "검색 결과: ['Python is a high-level, general-purpose programming language. Its design philosophy emphasizes code readability with the use of significant indentation. Python is dynamically type-checked and garbage-collected.', 'Python (파이썬) type: High-level programming language.', 'Python (파이썬) kgmid: /m/05z1_.', 'Python (파이썬) designed_by: Guido van Rossum.', 'Python (파이썬) developer: Python Software Foundation.', 'Python (파이썬) first_appeared: 20 February 1991; 34 years ago.', 'Python (파이썬) paradigm: Multi-paradigm - object-oriented, procedural (imperative), functional, structured, reflective.', 'Python (파이썬) stable_release: 3.13.7 / 14 August 2025; 17 days ago.', 'Python (파이썬) typing_discipline: duck, dynamic, strong; optional type annotations.', '파이썬은 멀티 패러다임 언어로, 절차적 프로그래밍, 함수형 프로그래밍, 객체 지향 등 다양한 패러다임을 모두 지원하는 언어이다. 속도에서 약간의 희생 ...', 'Python is a programming language that lets you work quickly and integrate systems more effectively. Learn More', 'The official home of the Python Programming Language.', '이 강좌는 프로그래밍을 처음 하는 분들을 위해서 파이썬을 통해 프로그래밍의 기초를 차근차근 익힐 수 있도록 진행하려고 합니다. 우리 함께 파이썬 탐험을 떠나 ...', '파이썬은 비영리 파이썬 소프트웨어 재단이 관리하는 개방형, 공동체 기반 개발 모델이 있다. 목차. 1 개요; 2 역사. 2.1 파이썬 2; 2.2 파이썬 3; 2.3 ...', '파이썬은 언어로서 정확히 그렇습니다. 간단한 문제에 대해 이해하기 쉽지만, 강력함이 부족하지 않고 더 어려운 경우에 지나치게 복잡한 접근 방식을 ...', 'Phython은 웹 애플리케이션, 소프트웨어 개발, 데이터 과학, 기계 학습(ML)에 널리 사용되는 프로그래밍 언어입니다. 개발자는 Python이 효율적이고 배우기 쉬우며 여러 ...', 'Google의 Python 클래스에 오신 것을 환영합니다. 이 프로그램은 프로그래밍 경험이 있고 Python을 배우고 싶은 사람들을 위한 무료 클래스입니다.', '기본 사항 배우기 · 헬로 월드! · 변수 및 타입 · 리스트 · 기본 연산자 · 문자열 형식화 · 기본 문자열 작업 · 조건문 · 반복문 · 함수 · 클래스와 객체 · 사전 · 모듈 및 ...']\n"
     ]
    },
    {
     "data": {
      "text/plain": [
       "\"['Python is a high-level, general-purpose programming language. Its design philosophy emphasizes code readability with the use of significant indentation. Python is dynamically type-checked and garbage-collected.', 'Python (파이썬) type: High-level programming language.', 'Python (파이썬) kgmid: /m/05z1_.', 'Python (파이썬) designed_by: Guido van Rossum.', 'Python (파이썬) developer: Python Software Foundation.', 'Python (파이썬) first_appeared: 20 February 1991; 34 years ago.', 'Python (파이썬) paradigm: Multi-paradigm - object-oriented, procedural (imperative), functional, structured, reflective.', 'Python (파이썬) stable_release: 3.13.7 / 14 August 2025; 17 days ago.', 'Python (파이썬) typing_discipline: duck, dynamic, strong; optional type annotations.', '파이썬은 멀티 패러다임 언어로, 절차적 프로그래밍, 함수형 프로그래밍, 객체 지향 등 다양한 패러다임을 모두 지원하는 언어이다. 속도에서 약간의 희생 ...', 'Python is a programming language that lets you work quickly and integrate systems more effectively. Learn More', 'The official home of the Python Programming Language.', '이 강좌는 프로그래밍을 처음 하는 분들을 위해서 파이썬을 통해 프로그래밍의 기초를 차근차근 익힐 수 있도록 진행하려고 합니다. 우리 함께 파이썬 탐험을 떠나 ...', '파이썬은 비영리 파이썬 소프트웨어 재단이 관리하는 개방형, 공동체 기반 개발 모델이 있다. 목차. 1 개요; 2 역사. 2.1 파이썬 2; 2.2 파이썬 3; 2.3 ...', '파이썬은 언어로서 정확히 그렇습니다. 간단한 문제에 대해 이해하기 쉽지만, 강력함이 부족하지 않고 더 어려운 경우에 지나치게 복잡한 접근 방식을 ...', 'Phython은 웹 애플리케이션, 소프트웨어 개발, 데이터 과학, 기계 학습(ML)에 널리 사용되는 프로그래밍 언어입니다. 개발자는 Python이 효율적이고 배우기 쉬우며 여러 ...', 'Google의 Python 클래스에 오신 것을 환영합니다. 이 프로그램은 프로그래밍 경험이 있고 Python을 배우고 싶은 사람들을 위한 무료 클래스입니다.', '기본 사항 배우기 · 헬로 월드! · 변수 및 타입 · 리스트 · 기본 연산자 · 문자열 형식화 · 기본 문자열 작업 · 조건문 · 반복문 · 함수 · 클래스와 객체 · 사전 · 모듈 및 ...']\""
      ]
     },
     "execution_count": 7,
     "metadata": {},
     "output_type": "execute_result"
    }
   ],
   "source": [
    "tools[1].invoke({\"query\": \"파이썬\", \"search_period\": \"m\"})"
   ]
  },
  {
   "cell_type": "markdown",
   "id": "626523a1",
   "metadata": {},
   "source": [
    "### 도구 목록 확인하기"
   ]
  },
  {
   "cell_type": "code",
   "execution_count": 8,
   "id": "6a9b3c8b",
   "metadata": {},
   "outputs": [
    {
     "name": "stdout",
     "output_type": "stream",
     "text": [
      "get_current_time name='get_current_time' description='현재 시각을 반환하는 함수' args_schema=<class 'langchain_core.utils.pydantic.get_current_time'> func=<function get_current_time at 0x000002006501B560>\n",
      "get_web_search name='get_web_search' description='웹 검색을 수행하는 함수 (SerpAPI 사용)\\n\\nArgs:\\n    query (str): 검색어\\n    search_period (str): 검색 기간(e.g., \"w\" for past week (default), \"m\" for past month, \"y\" for past year, \"d\" for past day)\\n\\nReturns:\\n    str: 검색 결과' args_schema=<class 'langchain_core.utils.pydantic.get_web_search'> func=<function get_web_search at 0x0000020069B56660>\n"
     ]
    }
   ],
   "source": [
    "for tool in tools:\n",
    "    print(tool.name, tool)"
   ]
  },
  {
   "cell_type": "markdown",
   "id": "ee798f42",
   "metadata": {},
   "source": [
    "### 언어 모델에 .bind_tools로 사용할 도구 연결하기"
   ]
  },
  {
   "cell_type": "code",
   "execution_count": 9,
   "id": "04ef27de",
   "metadata": {},
   "outputs": [
    {
     "data": {
      "text/plain": [
       "<langgraph.graph.state.StateGraph at 0x20069562b90>"
      ]
     },
     "execution_count": 9,
     "metadata": {},
     "output_type": "execute_result"
    }
   ],
   "source": [
    "model_with_tools = model.bind_tools(tools)\n",
    "\n",
    "def generate(state: State):\n",
    "    \"\"\"\n",
    "    주어진 상태를 기반으로 챗봇의 응답 메시지를 생성합니다.\n",
    "\n",
    "    매개변수:\n",
    "    state (State): 현재 대화 상태를 나타내는 객체로, 이전 메시지들이 포함되어 있습니다.\n",
    "\n",
    "    반환값:\n",
    "    dict: 모델이 생성한 응답 메시지를 포함하는 딕셔너리\n",
    "        형식은 {\"messages\": [응답 메시지]} 입니다.\n",
    "    \"\"\"\n",
    "    return {\"messages\": model_with_tools.invoke(state[\"messages\"])}\n",
    "\n",
    "graph_builder.add_node(\"generate\", generate)"
   ]
  },
  {
   "cell_type": "markdown",
   "id": "31a5967a",
   "metadata": {},
   "source": [
    "### 도구를 사용하는 노드 클래스 생성하기"
   ]
  },
  {
   "cell_type": "code",
   "execution_count": 12,
   "id": "2133318b",
   "metadata": {},
   "outputs": [
    {
     "data": {
      "text/plain": [
       "<langgraph.graph.state.StateGraph at 0x20069562b90>"
      ]
     },
     "execution_count": 12,
     "metadata": {},
     "output_type": "execute_result"
    }
   ],
   "source": [
    "import json\n",
    "from langchain_core.messages import ToolMessage\n",
    "\n",
    "class BasicToolNode:\n",
    "    \"\"\"\n",
    "    도구를 실행하는 노드 클래스입니다. 마지막 AIMessage에서 요청된 도구를 실행합니다.\n",
    "    Attributes:\n",
    "        tools_by_name (dict): 도구 이름을 키로 하고 도구 객체를 값으로 가지는 사전입니다.\n",
    "    Methods:\n",
    "        __init__(tools:list): 도구 객체들의 리스트를 받아서 초기화합니다.\n",
    "        __call__(inputs: dict): 입력 메시지를 받아서 도구를 실행하고 결과 메시지를 반환합니다.\n",
    "    \"\"\"\n",
    "    \"\"\"A node that runs the tools requested in the last AIMessage.\"\"\"\n",
    "\n",
    "    def __init__(self, tools: list) -> None:\n",
    "        self.tools_by_name = {tool.name: tool for tool in tools}\n",
    "    \n",
    "    def __call__(self, inputs: dict):\n",
    "        if messages := inputs.get(\"messages\", []):\n",
    "            # inputs에 messages가 있으면 messages를 가져오고 없으면 빈 리스트 가져오기\n",
    "            message = messages[-1]\n",
    "        else:\n",
    "            raise ValueError(\"No message found in input\")\n",
    "        outputs=[]\n",
    "        for tool_call in message.tool_calls:\n",
    "            tool_result = self.tools_by_name[tool_call[\"name\"]].invoke(\n",
    "                tool_call[\"args\"]\n",
    "            )\n",
    "            outputs.append(\n",
    "                ToolMessage(\n",
    "                    content=json.dumps(tool_result),\n",
    "                    name=tool_call[\"name\"],\n",
    "                    tool_call_id=tool_call[\"id\"]\n",
    "                )\n",
    "            )\n",
    "        return {\"messages\": messages + outputs}\n",
    "\n",
    "tool_node = BasicToolNode(tools=tools)\n",
    "graph_builder.add_node(\"tools\", tool_node)"
   ]
  },
  {
   "cell_type": "markdown",
   "id": "50aa9d13",
   "metadata": {},
   "source": [
    "### 언어 모델이 도구 사용 여부를 판단하도록 라우터 설정하기"
   ]
  },
  {
   "cell_type": "code",
   "execution_count": 13,
   "id": "fe270856",
   "metadata": {},
   "outputs": [],
   "source": [
    "def route_tools(state: State):\n",
    "    \"\"\"\n",
    "    마지막 메시지에 도구 호출이 있는 경우 ToolNode로 라우팅하고,\n",
    "    그렇지 않은 경우 끝으로 라우팅하기 위해 conditional_edge에서 사용합니다.\n",
    "    \"\"\"\n",
    "    if isinstance(state, list):\n",
    "        ai_message = state[-1]\n",
    "    elif messages := state.get(\"messages\", []):\n",
    "        ai_message = messages[-1]\n",
    "    else:\n",
    "        raise ValueError(f\"tool_edge 입력 상태에서 메시지를 찾을 수 없습니다: {state}\")\n",
    "    if hasattr(ai_message, \"tool_calls\") and len(ai_message.tool_calls) > 0:\n",
    "        return \"tools\"\n",
    "    return END\n",
    "\n",
    "graph_builder.add_edge(START, \"generate\")\n",
    "\n",
    "graph_builder.add_conditional_edges(\n",
    "    \"generate\",\n",
    "    route_tools,\n",
    "    {\"tools\": \"tools\", END: END},\n",
    ")\n",
    "# 도구가 호출될 때마다 다음 단꼐를 결정하기 위해 챗봇으로 돌아감\n",
    "graph_builder.add_edge(\"tools\", \"generate\")\n",
    "graph = graph_builder.compile()"
   ]
  },
  {
   "cell_type": "markdown",
   "id": "5681ce0c",
   "metadata": {},
   "source": [
    "### 그래프 출력하기"
   ]
  },
  {
   "cell_type": "code",
   "execution_count": 14,
   "id": "87df939d",
   "metadata": {},
   "outputs": [
    {
     "data": {
      "image/png": "[encoded data removed]",
      "text/plain": [
       "<IPython.core.display.Image object>"
      ]
     },
     "metadata": {},
     "output_type": "display_data"
    }
   ],
   "source": [
    "from IPython.display import Image, display\n",
    "\n",
    "try:\n",
    "    display(Image(graph.get_graph().draw_mermaid_png()))\n",
    "except Exception:\n",
    "    pass"
   ]
  },
  {
   "cell_type": "markdown",
   "id": "04372dab",
   "metadata": {},
   "source": [
    "### 답변 출력하기"
   ]
  },
  {
   "cell_type": "code",
   "execution_count": 15,
   "id": "a9be5bf6",
   "metadata": {},
   "outputs": [
    {
     "name": "stdout",
     "output_type": "stream",
     "text": [
      "현재 부산은 2025년 9월 3일 오후 3시 33분입니다."
     ]
    },
    {
     "data": {
      "text/plain": [
       "AIMessageChunk(content='현재 부산은 2025년 9월 3일 오후 3시 33분입니다.', additional_kwargs={'tool_calls': [{'index': 0, 'id': 'call_tKYTIQMVO4qiSW3m07tvP2zR', 'function': {'arguments': '{\"timezone\":\"Asia/Seoul\",\"location\":\"Busan\"}', 'name': 'get_current_time'}, 'type': 'function'}]}, response_metadata={'finish_reason': 'tool_callsstop', 'model_name': 'gpt-4o-mini-2024-07-18gpt-4o-mini-2024-07-18', 'system_fingerprint': 'fp_8bda4d3a2cfp_8bda4d3a2c', 'service_tier': 'defaultdefault'}, id='run--626b7dc9-1460-402b-9895-f994733fde54', tool_calls=[{'name': 'get_current_time', 'args': {'timezone': 'Asia/Seoul', 'location': 'Busan'}, 'id': 'call_tKYTIQMVO4qiSW3m07tvP2zR', 'type': 'tool_call'}], tool_call_chunks=[{'name': 'get_current_time', 'args': '{\"timezone\":\"Asia/Seoul\",\"location\":\"Busan\"}', 'id': 'call_tKYTIQMVO4qiSW3m07tvP2zR', 'index': 0, 'type': 'tool_call_chunk'}])"
      ]
     },
     "execution_count": 15,
     "metadata": {},
     "output_type": "execute_result"
    }
   ],
   "source": [
    "from langchain_core.messages import AIMessageChunk, HumanMessage\n",
    "\n",
    "inputs = [HumanMessage(content=\"지금 부산 몇 시야?\")]\n",
    "\n",
    "gathered = None\n",
    "for msg, metadata in graph.stream({\"messages\": inputs}, stream_mode=\"messages\"):\n",
    "    if isinstance(msg, AIMessageChunk):\n",
    "        print(msg.content, end='')\n",
    "\n",
    "        if gathered is None:\n",
    "            gathered = msg\n",
    "        else:\n",
    "            gathered = gathered + msg\n",
    "\n",
    "gathered"
   ]
  },
  {
   "cell_type": "markdown",
   "id": "bd1961be",
   "metadata": {},
   "source": [
    "### 프롬프트 설정하고 기사 작성하기"
   ]
  },
  {
   "cell_type": "code",
   "execution_count": 17,
   "id": "3851e856",
   "metadata": {},
   "outputs": [
    {
     "name": "stdout",
     "output_type": "stream",
     "text": [
      "\n",
      "-------WEB SEARCH-------\n",
      "검색어: Splatoon game difficulty criticism\n",
      "검색 기간: m\n",
      "검색 결과: [\"They're unbalanced and tedious. The Splatoon 2 bosses were an ideal difficulty curve for learning mechanics while Splatoon 3 bosses seem ...\", \"In my opinion splatoon isn't hard, there's just a lot you can do, and a lot that's out of your control. Getting good at a weapon and reaching ...\", \"Splatoon 3 is here and critics are all saying the same thing: it's great! Here's what early reactions to the latest game reveal.\", 'Splatoon 2, released to criticism about its lack of content. But how is Splatoon 2 now? The game now has 62 weapons, 14 stages with 2 more on ...', \"A couple of weeks ago, I described Splatoon 3 as a 'difficult game to preview', largely because of its iterative nature.\"]\n",
      "최근 '스플래툰' 시리즈에 대한 비판이 주목받고 있습니다. 특히, '스플래툰 3'의 난이도와 진입 장벽에 대한 논의가 활발히 이루어지고 있습니다. 많은 플레이어들이 게임의 복잡한 메커니즘과 다양한 무기 시스템으로 인해 초보자들이 접근하기 어렵다는 의견을 내고 있습니다. 이러한 주제를 선정한 이유는, 게임의 인기가 높아짐에 따라 더 많은 신규 플레이어가 유입되고 있지만, 그들이 겪는 어려움이 게임의 지속적인 성공에 영향을 미칠 수 있기 때문입니다.\n",
      "\n",
      "### 목차\n",
      "1. 서론\n",
      "   - 스플래툰 시리즈 개요\n",
      "   - 최근 이슈 개요\n",
      "2. 스플래툰 3의 난이도 분석\n",
      "   - 게임 메커니즘의 복잡성\n",
      "   - 무기와 캐릭터의 다양성\n",
      "3. 진입 장벽\n",
      "   - 신규 플레이어의 경험\n",
      "   - 커뮤니티의 반응\n",
      "4. 개선 방안\n",
      "   - 튜토리얼 및 교육 시스템\n",
      "   - 커뮤니티 지원\n",
      "5. 결론\n",
      "   - 스플래툰의 미래와 지속 가능성\n",
      "\n",
      "### 추가 검색할 내용 리스트\n",
      "1. 스플래툰 시리즈의 역사와 발전\n",
      "2. 스플래툰 3의 게임 메커니즘 및 특징\n",
      "3. 신규 플레이어의 경험담 및 커뮤니티 반응\n",
      "4. 다른 게임의 진입 장벽 및 개선 사례\n",
      "5. 스플래툰 3의 튜토리얼 및 교육 시스템에 대한 비판\n",
      "\n",
      "이제 추가 검색을 통해 필요한 정보를 수집하겠습니다.\n",
      "-------WEB SEARCH-------\n",
      "검색어: Splatoon 3 game mechanics complexity\n",
      "검색 기간: m\n",
      "검색 결과: [\"Splatoon 3's stages really try to funnel you hard into fights. This not only makes it easier to deal with a landslide loss if you lose that ...\", \"If you want to play with all the mechanics offered, go for it and if you don't, just play for fun. Options are always great. Why dumb everything ...\", 'The way that they make thing vague is almost certainly done on purpose, so that the player can experiment on their own with a little bit of guidance.', \"This video analyses Splatoon 3's core design and multiplayer modes from a game design perspective. I will also explain some game development ...\", \"It does a really great job of introducing you to the game's many mechanics, weapons types and abilities without it feeling like a dull and slow ...\", 'The story mode in all of the Splatoon games stealthily teaches you the game mechanics while giving you a substantial single-player experience to ...', 'The main game mode is Turf War which sees two teams fight to ink the most turf in a 3-minute battle. All of the weapons and specials from ...', 'In Splatoon 3, matches devolve into teams butting heads against each other at midfield and chokepoints until one side overwhelms the other with ...']\n",
      "\n",
      "-------WEB SEARCH-------\n",
      "검색어: Splatoon 3 new player experience community feedback\n",
      "검색 기간: m\n",
      "검색 결과: [\"I suggest as a new player to play through story first so you can have a feel of any weapons. It'll help you get better and also understand on how the game ...\", 'Step 1 is put motion controls on. I suggest playing the campaign to get used to them. Nobody is amazing at games when they first play them, ...', \"New player shares positive experience with Splatoon 3 on Nintendo Switch. It's addicting because the more you play the better it gets. It's ...\", 'While the real human players may have mostly been lacking in my pre-release experience, the fake community in-game is still loud and ridiculous.', \"The discussion revolves around the player base of Splatoon 3, with the original poster inquiring about the current state of the game's player ...\", \"For me, Splatoon 3 has the best core gameplay concepts of any shooter I've ever played, but the maps ABSOLUTLEY BUTCHER it.\", \"Splatoon 3 has been reviewed by 125 critics and currently has a 'Strong' rating. Read and browse them all to learn what the top critics in the video game ...\", 'With a 95% enjoyment rating on Google, an 83% on Metacritic, and an 83% OpenCritic, Splatoon 3 has come out to generally positive reviews, and ...']\n",
      "\n",
      "-------WEB SEARCH-------\n",
      "검색어: game entry barriers improvement examples\n",
      "검색 기간: m\n",
      "검색 결과: ['Reducing Friction/Barriers to Entry for Playing Games, by Identifying Where/What/Why the Friction is, and What Would Fix It, w/a few examples.', \"Here are my “top 5 genres that have a high entry barrier for new players and aren't suitable for easy casual non-gamery times.\", \"I'm curious to see what troubles you all have run into while making your games. For me, I find that lacking direct industry experience is one of my biggest ...\", 'RPG publishers have set an unnecessarily high barrier to entry due to dependence on the mass-loading and mentor model in about 99% of role-playing games.', 'One barrier to a video game job is indeed competition: there are far more people wanting to be game designers, and think they have the skills to ...', 'For example, building cost is a barrier to entry. So, not everybody can build a factory, say, to manufacture airplanes. As a result ...', 'Exclusive con- tracts in vertical relationships between the platform provider and software supplier can heighten entry barriers. We test these theories in the ...', '1. We asked them about their problems. · 2. We searched for solutions to their problems. · 3. We solved their problems.', 'Barriers are obviously most effective when entrants challenge incumbents at their own game with fewer skills and resources. A successful strategy consists, of ...', 'Barriers to entry are the existence of high start-up costs or other obstacles that prevent new competitors from easily entering an industry or area of business.']\n",
      "### 추가 검색 결과 요약\n",
      "\n",
      "1. **스플래툰 3의 게임 메커니즘 복잡성**\n",
      "   - 스플래툰 3는 다양한 전투 메커니즘과 무기 시스템을 제공하며, 플레이어가 이를 익히기 위해서는 상당한 시간과 노력이 필요하다. 특히, 스테이지 디자인이 전투를 강제로 유도하는 방식으로 구성되어 있어 초보자에게는 부담이 될 수 있다. 게임은 다양한 옵션을 제공하지만, 이를 활용하기 위해서는 많은 실험과 경험이 필요하다.\n",
      "\n",
      "2. **신규 플레이어의 경험 및 커뮤니티 반응**\n",
      "   - 신규 플레이어들은 스토리 모드를 통해 게임의 기본 메커니즘을 익히는 것이 좋다고 추천하고 있다. 많은 플레이어들이 스플래툰 3의 중독성 있는 게임플레이를 긍정적으로 평가하고 있지만, 여전히 초보자들이 겪는 어려움에 대한 우려가 존재한다. 커뮤니티 내에서는 게임의 난이도와 관련된 다양한 의견이 오가고 있다.\n",
      "\n",
      "3. **게임 진입 장벽 및 개선 사례**\n",
      "   - 게임의 진입 장벽을 줄이기 위해서는 플레이어가 겪는 어려움을 파악하고 이를 해결하기 위한 방안이 필요하다. 예를 들어, 튜토리얼 시스템을 개선하거나, 커뮤니티 지원을 강화하는 방법이 제안되고 있다. 이러한 접근은 신규 플레이어가 게임에 쉽게 적응할 수 있도록 도와줄 수 있다.\n",
      "\n",
      "### 추가 검색 필요 여부 확인\n",
      "현재 수집된 정보로는 스플래툰 3의 난이도, 신규 플레이어의 경험, 진입 장벽에 대한 분석이 충분히 이루어졌습니다. 그러나 각 섹션에 대한 구체적인 사례나 통계가 부족할 수 있으므로, 추가적인 검색이 필요할 수 있습니다. 특히, 다른 게임의 진입 장벽 개선 사례에 대한 정보가 더 필요할 수 있습니다.\n",
      "\n",
      "이제 추가 검색을 통해 더 구체적인 사례를 찾아보겠습니다.\n",
      "-------WEB SEARCH-------\n",
      "검색어: video game entry barriers improvement examples\n",
      "검색 기간: m\n",
      "검색 결과: ['By incorporating features such as customizable controls and visual and auditory aids, developers can make games more inclusive. Projects like ...', \"I'm curious to see what troubles you all have run into while making your games. For me, I find that lacking direct industry experience is one of my biggest ...\", 'For example, people from rural or economically disadvantaged areas are less likely to have access to opportunities to work in the games industry ...', 'One barrier to a video game job is indeed competition: there are far more people wanting to be game designers, and think they have the skills to ...', '1. Have a very large financial commitment and lots of dedication to a \"to market\" date about 5 to 8 years out. · 2. Put together a world class ...', 'Visual barriers: Small text, no colorblind modes, or low-contrast HUD elements. · Auditory barriers: Lack of subtitles or captioning, missing ...', 'Another quick and overdue suggestion, every video game should at this point be allowing players to customise their controls, and remap which ...', 'Like any industry, it takes focus and dedication to become a pro. But this barrier of entry can be a limitation on new, diverse game concepts.', 'A good example of this ability could be problem-solving decision-making and even spatial awareness. Learn more about this with our cognitive accessibility guide ...', 'Barriers to entry are among the highest in tech, and the talent issue at the core of the industry can be misunderstood by newcomers.']\n",
      "### 추가 검색 결과 요약\n",
      "\n",
      "- **게임 진입 장벽 개선 사례**\n",
      "  - 게임 개발자들은 사용자 맞춤형 컨트롤, 시각 및 청각 보조 기능을 도입하여 게임을 더 포괄적으로 만들 수 있다. 이러한 접근은 다양한 플레이어가 게임에 쉽게 접근할 수 있도록 도와준다.\n",
      "  - 예를 들어, 시각적 장벽(작은 텍스트, 색맹 모드 부족 등)과 청각적 장벽(자막 부족 등)을 해결하는 것이 중요하다. 이러한 기능들은 특히 신규 플레이어와 다양한 배경을 가진 플레이어에게 큰 도움이 된다.\n",
      "  - 게임의 튜토리얼 시스템을 개선하고, 플레이어가 쉽게 이해할 수 있도록 단계별로 안내하는 방식도 효과적이다.\n",
      "\n",
      "이제 수집된 정보를 바탕으로 기사를 작성하겠습니다.\n",
      "\n",
      "---\n",
      "\n",
      "## 제목: 스플래툰 3, 진입 장벽과 난이도에 대한 비판\n",
      "\n",
      "### 부제: 신규 플레이어의 경험을 저해하는 복잡한 메커니즘\n",
      "\n",
      "### 리드문\n",
      "닌텐도의 인기 게임 '스플래툰 3'가 출시된 이후, 많은 플레이어들이 게임의 난이도와 진입 장벽에 대한 우려를 표명하고 있다. 복잡한 게임 메커니즘과 다양한 무기 시스템은 신규 플레이어에게 큰 도전 과제가 되고 있으며, 이는 게임의 지속적인 성공에 부정적인 영향을 미칠 수 있다.\n",
      "\n",
      "### 본문\n",
      "\n",
      "#### 1. 스플래툰 시리즈 개요\n",
      "스플래툰 시리즈는 독특한 멀티플레이어 슈팅 게임으로, 플레이어는 잉크를 사용하여 상대 팀과 경쟁한다. 그러나 최근 출시된 스플래툰 3는 그 복잡성으로 인해 많은 신규 플레이어들이 어려움을 겪고 있다.\n",
      "\n",
      "#### 2. 스플래툰 3의 난이도 분석\n",
      "스플래툰 3는 다양한 전투 메커니즘과 무기 시스템을 제공하지만, 이러한 요소들은 초보자에게는 부담이 될 수 있다. 특히, 스테이지 디자인이 전투를 강제로 유도하는 방식으로 구성되어 있어, 초보자들은 쉽게 압도당할 수 있다. 많은 플레이어들이 게임의 다양한 옵션을 활용하기 위해서는 상당한 시간과 노력이 필요하다고 지적하고 있다.\n",
      "\n",
      "#### 3. 진입 장벽\n",
      "신규 플레이어들은 스토리 모드를 통해 게임의 기본 메커니즘을 익히는 것이 좋다고 추천하고 있다. 그러나 여전히 많은 플레이어들이 게임의 난이도와 관련된 어려움을 겪고 있으며, 커뮤니티 내에서는 이러한 문제에 대한 다양한 의견이 오가고 있다. 특히, 신규 플레이어들이 게임에 적응하는 데 필요한 지원이 부족하다는 지적이 있다.\n",
      "\n",
      "#### 4. 개선 방안\n",
      "게임의 진입 장벽을 줄이기 위해서는 플레이어가 겪는 어려움을 파악하고 이를 해결하기 위한 방안이 필요하다. 예를 들어, 사용자 맞춤형 컨트롤, 시각 및 청각 보조 기능을 도입하여 게임을 더 포괄적으로 만들 수 있다. 또한, 튜토리얼 시스템을 개선하고, 플레이어가 쉽게 이해할 수 있도록 단계별로 안내하는 방식도 효과적이다.\n",
      "\n",
      "#### 5. 결론\n",
      "스플래툰 3는 그 독창적인 게임플레이로 많은 사랑을 받고 있지만, 신규 플레이어들이 겪는 어려움은 게임의 지속적인 성공에 큰 영향을 미칠 수 있다. 개발자들은 이러한 문제를 해결하기 위해 보다 포괄적인 접근 방식을 채택해야 할 것이다. 게임의 미래는 이러한 진입 장벽을 극복하는 데 달려 있다."
     ]
    }
   ],
   "source": [
    "from langchain_core.messages import AIMessageChunk, SystemMessage\n",
    "\n",
    "about = \"닌텐도 게임 '스플래툰'의 진입장벽 및 플레이의 어려움\"\n",
    "\n",
    "inputs = [SystemMessage(content=f\"\"\"\n",
    "너는 신문기자이다.\n",
    "최근 {about}에 대해 비판하는 심층 분석 기사를 쓰려고 한다.\n",
    "\n",
    "- 최근 어떤 이슈가 있는지 검색하고, 사람들이 제일 관심있어 할만한 주제를 선정하고, 왜 선정했는지 말해줘.\n",
    "- 그 내용으로 원고를 작성하기 위한 목차를 만들고, 목차 내용을 채우기 위해 추가로 검색할 내용을 리스트로 정리해봐\n",
    "- 검색할 리스트를 토대로 재검색해.\n",
    "- 목차에 있는 내용을 작성하기 위해 더 검색이 필요한 정보가 있는지 확인하고, 있다면 추가로 검색해.\n",
    "- 검색된 결과에 원하는 정보를 찾지 못했다면 다른 검색어로 재검색해도 좋아.\n",
    "\n",
    "더이상 검색할 내용이 없다면, 조선일보 신문 기사 형식으로 최종 기사를 작성한다.\n",
    "제목, 부제, 리드문, 본문의 구성으로 작성한다. 본문 내용은 심층 분석 기사에 맞게 구체적이고 깊이있게 작성해야 한다.\n",
    "\n",
    "\"\"\")]\n",
    "\n",
    "for msg, metadata in graph.stream({\"messages\": inputs}, stream_mode=\"messages\"):\n",
    "    if isinstance(msg, AIMessageChunk):\n",
    "        print(msg.content, end='')"
   ]
  }
 ],
 "metadata": {
  "kernelspec": {
   "display_name": "AI",
   "language": "python",
   "name": "python3"
  },
  "language_info": {
   "codemirror_mode": {
    "name": "ipython",
    "version": 3
   },
   "file_extension": ".py",
   "mimetype": "text/x-python",
   "name": "python",
   "nbconvert_exporter": "python",
   "pygments_lexer": "ipython3",
   "version": "3.11.9"
  }
 },
 "nbformat": 4,
 "nbformat_minor": 5
}
