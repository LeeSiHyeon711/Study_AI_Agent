{
 "cells": [
  {
   "cell_type": "markdown",
   "id": "2dbc8b4a",
   "metadata": {},
   "source": [
    "### 언어 모델 설정하기"
   ]
  },
  {
   "cell_type": "code",
   "execution_count": 2,
   "id": "1e510765",
   "metadata": {},
   "outputs": [
    {
     "data": {
      "text/plain": [
       "AIMessage(content='안녕하세요! 어떻게 도와드릴까요?', additional_kwargs={'refusal': None}, response_metadata={'token_usage': {'completion_tokens': 10, 'prompt_tokens': 9, 'total_tokens': 19, 'completion_tokens_details': {'accepted_prediction_tokens': 0, 'audio_tokens': 0, 'reasoning_tokens': 0, 'rejected_prediction_tokens': 0}, 'prompt_tokens_details': {'audio_tokens': 0, 'cached_tokens': 0}}, 'model_name': 'gpt-4o-mini-2024-07-18', 'system_fingerprint': 'fp_e665f7564b', 'id': 'chatcmpl-CBZJBkbwyqbtePhL797nI8fuZiFhx', 'service_tier': 'default', 'finish_reason': 'stop', 'logprobs': None}, id='run--1de623bf-8e6f-4528-8e50-f9a4879ff896-0', usage_metadata={'input_tokens': 9, 'output_tokens': 10, 'total_tokens': 19, 'input_token_details': {'audio': 0, 'cache_read': 0}, 'output_token_details': {'audio': 0, 'reasoning': 0}})"
      ]
     },
     "execution_count": 2,
     "metadata": {},
     "output_type": "execute_result"
    }
   ],
   "source": [
    "from langchain_openai import ChatOpenAI\n",
    "\n",
    "# 모델 초기화\n",
    "model = ChatOpenAI(model=\"gpt-4o-mini\", temperature=0.01)\n",
    "model.invoke(\"안녕하세요\")"
   ]
  },
  {
   "cell_type": "markdown",
   "id": "c45df2fe",
   "metadata": {},
   "source": [
    "### 상태 설정하기"
   ]
  },
  {
   "cell_type": "code",
   "execution_count": 3,
   "id": "582138c6",
   "metadata": {},
   "outputs": [],
   "source": [
    "from typing import Annotated\n",
    "from typing_extensions import TypedDict\n",
    "\n",
    "from langgraph.graph import StateGraph, START, END\n",
    "from langgraph.graph.message import add_messages\n",
    "\n",
    "class State(TypedDict):\n",
    "    \"\"\"\n",
    "    State 클래스는 TypedDict를 상속받습니다.\n",
    "\n",
    "    속성:\n",
    "        messages (Annotated[list[str], add_messages]): 메시지들은 \"list\" 타입을 가집니다.\n",
    "        주석에 있는 'add_messages' 함수는 이 상태 키가 어떻게 업데이트되어야 하는지를 정의합니다.\n",
    "        (이 경우, 메시지를 덮어쓰는 대신 리스트에 추가합니다.)\n",
    "    \"\"\"\n",
    "    messages: Annotated[list[str], add_messages]\n",
    "\n",
    "# StateGraph 클래스를 사용하여 State 타입의 그래프 생성\n",
    "graph_builder = StateGraph(State)"
   ]
  },
  {
   "cell_type": "markdown",
   "id": "d32c69c2",
   "metadata": {},
   "source": [
    "### 도구 등록하기"
   ]
  },
  {
   "cell_type": "code",
   "execution_count": 4,
   "id": "ff275a98",
   "metadata": {},
   "outputs": [
    {
     "name": "stderr",
     "output_type": "stream",
     "text": [
      "USER_AGENT environment variable not set, consider setting it to identify your requests.\n"
     ]
    }
   ],
   "source": [
    "from langchain_core.tools import tool\n",
    "from datetime import datetime\n",
    "import pytz\n",
    "from langchain_community.tools import DuckDuckGoSearchResults\n",
    "from langchain_community.utilities import DuckDuckGoSearchAPIWrapper\n",
    "\n",
    "import bs4\n",
    "from langchain_community.document_loaders import WebBaseLoader\n",
    "\n",
    "# 도구 함수 정의\n",
    "@tool\n",
    "def get_current_time(timezone: str, location: str) -> str:\n",
    "    \"\"\"현재 시각을 반환하는 함수\"\"\"\n",
    "    try:\n",
    "        tz = pytz.timezone(timezone)\n",
    "        now = datetime.now(tz).strftime(\"%Y-%m-%d %H:%M:%S\")\n",
    "        result = f'{timezone} ({location}) 현재 시각 {now}'\n",
    "\n",
    "        return result\n",
    "    except pytz.UnknownTimeZoneError:\n",
    "        return f\"알 수 없는 타임존: {timezone}\"\n",
    "\n",
    "@tool\n",
    "def get_web_search(query: str, search_period: str='m')-> str:\n",
    "    \"\"\"\n",
    "    웹 검색을 수행하는 함수\n",
    "    \n",
    "    Args:\n",
    "        query (str): 검색어\n",
    "        search_perio (str): 검색 기간(e.g., \"w\" for past week (default), \"m\" for past month, \"y\" for past year, \"d\" for past day)\n",
    "    \n",
    "    Returns:\n",
    "        str: 검색 결과\n",
    "    \"\"\"\n",
    "    wrapper = DuckDuckGoSearchAPIWrapper(\n",
    "        time=search_period\n",
    "    )\n",
    "\n",
    "    print('\\n-------WEB SEARCH-------')\n",
    "    print(query)\n",
    "    print(search_period)\n",
    "\n",
    "    search = DuckDuckGoSearchResults(\n",
    "        api_wrapper=wrapper,\n",
    "        result_separator=\";\\n\"\n",
    "    )\n",
    "\n",
    "    searched = search.invoke(query)\n",
    "\n",
    "    for i, result in enumerate(searched.split(';\\n')):\n",
    "        print(f'{i+1}. {result}')\n",
    "    \n",
    "    return searched\n",
    "\n",
    "# 도구 바인딩\n",
    "tools = [get_current_time, get_web_search]"
   ]
  },
  {
   "cell_type": "markdown",
   "id": "701dd902",
   "metadata": {},
   "source": [
    "### 현재 시각을 얻는 도구 get_current_time 실행 테스트하기"
   ]
  },
  {
   "cell_type": "code",
   "execution_count": 5,
   "id": "87ffd254",
   "metadata": {},
   "outputs": [
    {
     "data": {
      "text/plain": [
       "'Asia/Seoul (서울) 현재 시각 2025-09-03 13:43:44'"
      ]
     },
     "execution_count": 5,
     "metadata": {},
     "output_type": "execute_result"
    }
   ],
   "source": [
    "tools[0].invoke({\"timezone\": \"Asia/Seoul\", \"location\": \"서울\"})"
   ]
  },
  {
   "cell_type": "markdown",
   "id": "75dfdef0",
   "metadata": {},
   "source": [
    "### 웹 검색 도구 get_web_search 실행 테스트하기"
   ]
  },
  {
   "cell_type": "code",
   "execution_count": 7,
   "id": "81d41550",
   "metadata": {},
   "outputs": [
    {
     "name": "stdout",
     "output_type": "stream",
     "text": [
      "\n",
      "-------WEB SEARCH-------\n",
      "파이썬\n",
      "m\n",
      "1. snippet: 4 hours ago - Python is a high-level, general-purpose programming language. Its design philosophy emphasizes code readability with the use of significant indentation. Python is dynamically type-checked and garbage-collected. It supports multiple programming paradigms, including structured (particularly ..., title: Wikipedia Python (programming language) - Wikipedia, link: https://en.wikipedia.org/wiki/Python_(programming_language), snippet: 2 weeks ago - ไพทอน (อังกฤษ: Python) เป็นอินเทอร์พรีเตอร์ภาษาระดับสูงซึ่งสร้างโดยคีโด ฟัน โรสซึม โดยเริ่มใน พ.ศ. 2533 การออกแบบ..., title: Wikipedia ภาษาไพทอน - วิกิพีเดีย, link: https://th.wikipedia.org/wiki/ภาษาไพทอน, snippet: 2 weeks ago - 파이썬 설치부터 실행까지 완벽 가이드프로그래밍 초보자도 쉽게 따라할 수 있는 파이썬 설치 가이드서론: 파이썬 , 왜 배워야 할까요?최근 IT 분야에 관심이 많으시거나, 혹은 새롭게 프로그래밍을 시작해보고 싶은 분이라면 ..., title: Tistory 누구나 쉽게! 파이썬 설치부터 실행까지 완벽 가이드, link: https://informant-c.tistory.com/entry/누구나-쉽게-파이썬-설치부터-실행까지-완벽-가이드, snippet: 19시간 전 — 파이썬 의 asyncio 는 I/O(입출력) 작업이 많은 환경에서 대기 시간을 줄여 프로그램의 효율을 극적으로 높일 수 있는 강력한 도구입니다. 하지만 여러 장점에도 불구하고 ..., title: 파이썬 Async, 왜 아직 주류가 아닐까? - GeekNews, link: https://news.hada.io/topic?id=22864\n"
     ]
    },
    {
     "data": {
      "text/plain": [
       "'snippet: 4 hours ago - Python is a high-level, general-purpose programming language. Its design philosophy emphasizes code readability with the use of significant indentation. Python is dynamically type-checked and garbage-collected. It supports multiple programming paradigms, including structured (particularly ..., title: Wikipedia Python (programming language) - Wikipedia, link: https://en.wikipedia.org/wiki/Python_(programming_language), snippet: 2 weeks ago - ไพทอน (อังกฤษ: Python) เป็นอินเทอร์พรีเตอร์ภาษาระดับสูงซึ่งสร้างโดยคีโด ฟัน โรสซึม โดยเริ่มใน พ.ศ. 2533 การออกแบบ..., title: Wikipedia ภาษาไพทอน - วิกิพีเดีย, link: https://th.wikipedia.org/wiki/ภาษาไพทอน, snippet: 2 weeks ago - 파이썬 설치부터 실행까지 완벽 가이드프로그래밍 초보자도 쉽게 따라할 수 있는 파이썬 설치 가이드서론: 파이썬 , 왜 배워야 할까요?최근 IT 분야에 관심이 많으시거나, 혹은 새롭게 프로그래밍을 시작해보고 싶은 분이라면 ..., title: Tistory 누구나 쉽게! 파이썬 설치부터 실행까지 완벽 가이드, link: https://informant-c.tistory.com/entry/누구나-쉽게-파이썬-설치부터-실행까지-완벽-가이드, snippet: 19시간 전 — 파이썬 의 asyncio 는 I/O(입출력) 작업이 많은 환경에서 대기 시간을 줄여 프로그램의 효율을 극적으로 높일 수 있는 강력한 도구입니다. 하지만 여러 장점에도 불구하고 ..., title: 파이썬 Async, 왜 아직 주류가 아닐까? - GeekNews, link: https://news.hada.io/topic?id=22864'"
      ]
     },
     "execution_count": 7,
     "metadata": {},
     "output_type": "execute_result"
    }
   ],
   "source": [
    "tools[1].invoke({\"query\": \"파이썬\", \"search_period\": \"m\"})"
   ]
  },
  {
   "cell_type": "markdown",
   "id": "626523a1",
   "metadata": {},
   "source": [
    "### 도구 목록 확인하기"
   ]
  },
  {
   "cell_type": "code",
   "execution_count": 8,
   "id": "6a9b3c8b",
   "metadata": {},
   "outputs": [
    {
     "name": "stdout",
     "output_type": "stream",
     "text": [
      "get_current_time name='get_current_time' description='현재 시각을 반환하는 함수' args_schema=<class 'langchain_core.utils.pydantic.get_current_time'> func=<function get_current_time at 0x0000026065F909A0>\n",
      "get_web_search name='get_web_search' description='웹 검색을 수행하는 함수\\n\\nArgs:\\n    query (str): 검색어\\n    search_perio (str): 검색 기간(e.g., \"w\" for past week (default), \"m\" for past month, \"y\" for past year, \"d\" for past day)\\n\\nReturns:\\n    str: 검색 결과' args_schema=<class 'langchain_core.utils.pydantic.get_web_search'> func=<function get_web_search at 0x0000026065F90900>\n"
     ]
    }
   ],
   "source": [
    "for tool in tools:\n",
    "    print(tool.name, tool)"
   ]
  }
 ],
 "metadata": {
  "kernelspec": {
   "display_name": "AI",
   "language": "python",
   "name": "python3"
  },
  "language_info": {
   "codemirror_mode": {
    "name": "ipython",
    "version": 3
   },
   "file_extension": ".py",
   "mimetype": "text/x-python",
   "name": "python",
   "nbconvert_exporter": "python",
   "pygments_lexer": "ipython3",
   "version": "3.12.7"
  }
 },
 "nbformat": 4,
 "nbformat_minor": 5
}
