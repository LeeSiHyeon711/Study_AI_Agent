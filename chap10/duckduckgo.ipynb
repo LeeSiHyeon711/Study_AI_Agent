{
 "cells": [
  {
   "cell_type": "markdown",
   "id": "584d64cf",
   "metadata": {},
   "source": [
    "### 최신 정보를 알려주지 못하는 GPT"
   ]
  },
  {
   "cell_type": "code",
   "execution_count": 1,
   "id": "3cf56234",
   "metadata": {},
   "outputs": [
    {
     "data": {
      "text/plain": [
       "AIMessage(content='최슨 로제가 발표한 신곡에 대한 정보는 2023년 10월까지의 데이터에 포함되어 있지 않습니다. 최신 정보를 확인하기 위해서는 공식 소셜 미디어 계정이나 음악 스트리밍 플랫폼을 참고하시기 바랍니다.', additional_kwargs={'refusal': None}, response_metadata={'token_usage': {'completion_tokens': 54, 'prompt_tokens': 20, 'total_tokens': 74, 'completion_tokens_details': {'accepted_prediction_tokens': 0, 'audio_tokens': 0, 'reasoning_tokens': 0, 'rejected_prediction_tokens': 0}, 'prompt_tokens_details': {'audio_tokens': 0, 'cached_tokens': 0}}, 'model_name': 'gpt-4o-mini-2024-07-18', 'system_fingerprint': 'fp_d77b305a29', 'id': 'chatcmpl-CBDF3p87dVqLAD9tstZW8sZb5xc8N', 'service_tier': 'default', 'finish_reason': 'stop', 'logprobs': None}, id='run--53b421fc-0577-4807-af93-9f77a1212b8c-0', usage_metadata={'input_tokens': 20, 'output_tokens': 54, 'total_tokens': 74, 'input_token_details': {'audio': 0, 'cache_read': 0}, 'output_token_details': {'audio': 0, 'reasoning': 0}})"
      ]
     },
     "execution_count": 1,
     "metadata": {},
     "output_type": "execute_result"
    }
   ],
   "source": [
    "from langchain_openai import ChatOpenAI\n",
    "\n",
    "model = ChatOpenAI(model = \"gpt-4o-mini\")\n",
    "model.invoke(\"최슨 로제가 발표한 신곡은 무엇인가요?\")"
   ]
  },
  {
   "cell_type": "markdown",
   "id": "ec22d449",
   "metadata": {},
   "source": [
    "### 덕덕고 검색 설치하기"
   ]
  },
  {
   "cell_type": "code",
   "execution_count": 5,
   "id": "561f41b8",
   "metadata": {},
   "outputs": [
    {
     "name": "stdout",
     "output_type": "stream",
     "text": [
      "Collecting ddgs\n",
      "  Downloading ddgs-9.5.5-py3-none-any.whl.metadata (18 kB)\n",
      "Requirement already satisfied: click>=8.1.8 in c:\\users\\1\\desktop\\study_ai_agent\\study_ai_agent\\ai\\lib\\site-packages (from ddgs) (8.2.1)\n",
      "Requirement already satisfied: primp>=0.15.0 in c:\\users\\1\\desktop\\study_ai_agent\\study_ai_agent\\ai\\lib\\site-packages (from ddgs) (0.15.0)\n",
      "Requirement already satisfied: lxml>=6.0.0 in c:\\users\\1\\desktop\\study_ai_agent\\study_ai_agent\\ai\\lib\\site-packages (from ddgs) (6.0.1)\n",
      "Requirement already satisfied: colorama in c:\\users\\1\\desktop\\study_ai_agent\\study_ai_agent\\ai\\lib\\site-packages (from click>=8.1.8->ddgs) (0.4.6)\n",
      "Downloading ddgs-9.5.5-py3-none-any.whl (37 kB)\n",
      "Installing collected packages: ddgs\n",
      "Successfully installed ddgs-9.5.5\n",
      "Note: you may need to restart the kernel to use updated packages.\n"
     ]
    },
    {
     "name": "stderr",
     "output_type": "stream",
     "text": [
      "\n",
      "[notice] A new release of pip is available: 24.2 -> 25.2\n",
      "[notice] To update, run: python.exe -m pip install --upgrade pip\n"
     ]
    }
   ],
   "source": [
    "%pip install -U ddgs"
   ]
  },
  {
   "cell_type": "markdown",
   "id": "e6a23917",
   "metadata": {},
   "source": [
    "### 덕덕고 검색 테스트하기"
   ]
  },
  {
   "cell_type": "code",
   "execution_count": 25,
   "id": "1629811e",
   "metadata": {},
   "outputs": [
    {
     "name": "stdout",
     "output_type": "stream",
     "text": [
      "snippet: 29일 빌보드가 발표한 최신 차트에 따르면, ‘APT.’는 핫 100 차트에 8위로 진입했습니다. ‘APT.’는 경쾌한 멜로디와 중독성 있는 후렴구로 리스너를 사로잡았죠., title: 로제가 ‘APT.’로 새로 쓴 역사 | 보그 코리아 (Vogue Korea), link: https://www.vogue.co.kr/2024/10/29/로제가-apt-로-새로-쓴-역사/\n",
      "snippet: 걸그룹 블랙핑크의 로제가 빌보드 글로벌 차트 정상을 찍은 곡 ‘아파트’(APT.) 탄생 비화를 소개했다. 브루노 마스 쪽에 3곡의 협업곡 후보를 제시했는데, 브루노 마스가 ‘아파트’를 콕 집었다는 것이다., title: 로제가 보낸 3곡 중 ‘아파트’ 고른 브루노 마스…“끝내주네” | 한겨레, link: https://www.hani.co.kr/arti/international/international_general/1166261.html\n",
      "snippet: 로제가 전 세계에 알린 한국 술 게임 아파트, 어떻게 하는 건데? 복사. 공유., title: 로제가 전 세계에 알린 한국 술 게임 APT... | 얼루어 코리아 (Allure Korea), link: https://www.allurekorea.com/2024/10/20/로제가-전-세계에-알린-한국-술-게임-아파트-어떻게-하/\n",
      "snippet: 6일 로 첫 솔로 앨범을 발표한 블랙핑크 로제. 가창력 넘치는 노래와 날렵한 댄스로 돌아왔어요., title: ‘먹챙’ 로제가 살 안 찌는 이유 - DAILY NEWS, link: https://www.elle.co.kr/article/53680\n"
     ]
    }
   ],
   "source": [
    "from langchain_community.tools import DuckDuckGoSearchResults\n",
    "\n",
    "search = DuckDuckGoSearchResults(results_separator='\\n')\n",
    "docs = search.invoke(\"최슨 로제가 발표한 신곡은 무엇인가요?\")\n",
    "\n",
    "print(docs)"
   ]
  },
  {
   "cell_type": "markdown",
   "id": "d547afa1",
   "metadata": {},
   "source": [
    "### 질의 확장 구현하기"
   ]
  },
  {
   "cell_type": "code",
   "execution_count": 26,
   "id": "a911c8c0",
   "metadata": {},
   "outputs": [],
   "source": [
    "from langchain_core.prompts import ChatPromptTemplate, MessagesPlaceholder\n",
    "\n",
    "question_answering_prompt = ChatPromptTemplate.from_messages(\n",
    "    [\n",
    "        (\n",
    "            \"system\",\n",
    "            f\"아래 context에 기반하여 사용자의 질문에 답변하라.:\\n\\n{docs}\",\n",
    "        ),\n",
    "        MessagesPlaceholder(variable_name=\"messages\"),\n",
    "    ]\n",
    ")\n",
    "\n",
    "document_chain = question_answering_prompt | model"
   ]
  },
  {
   "cell_type": "markdown",
   "id": "189bc47f",
   "metadata": {},
   "source": [
    "### 메시지 저장하고 답변 생성 후 출력하기"
   ]
  },
  {
   "cell_type": "code",
   "execution_count": 27,
   "id": "d26d79aa",
   "metadata": {},
   "outputs": [
    {
     "name": "stdout",
     "output_type": "stream",
     "text": [
      "content=\"로제가 최근 발표한 신곡은 'APT.'입니다. 이 곡은 핫 100 차트에서 8위로 진입하였고, 경쾌한 멜로디와 중독성 있는 후렴구로 많은 사랑을 받고 있습니다.\" additional_kwargs={'refusal': None} response_metadata={'token_usage': {'completion_tokens': 58, 'prompt_tokens': 466, 'total_tokens': 524, 'completion_tokens_details': {'accepted_prediction_tokens': 0, 'audio_tokens': 0, 'reasoning_tokens': 0, 'rejected_prediction_tokens': 0}, 'prompt_tokens_details': {'audio_tokens': 0, 'cached_tokens': 0}}, 'model_name': 'gpt-4o-mini-2024-07-18', 'system_fingerprint': 'fp_d77b305a29', 'id': 'chatcmpl-CBFXEWVxhsZPdLPzaqzyossRn2HPX', 'service_tier': 'default', 'finish_reason': 'stop', 'logprobs': None} id='run--15602275-feba-45e0-a6ba-6e6d1b58c713-0' usage_metadata={'input_tokens': 466, 'output_tokens': 58, 'total_tokens': 524, 'input_token_details': {'audio': 0, 'cache_read': 0}, 'output_token_details': {'audio': 0, 'reasoning': 0}}\n"
     ]
    }
   ],
   "source": [
    "from langchain.memory import ChatMessageHistory\n",
    "\n",
    "# 채팅 메시지를 저장할 메모리 객체 생성\n",
    "chat_history = ChatMessageHistory()\n",
    "# 사용자 질문을 메모리에 저장\n",
    "chat_history.add_user_message(\"요즘 로제가 발표한 신곡은 무엇인가요?\")\n",
    "\n",
    "# 문서 검색하고 답변 생성\n",
    "answer = document_chain.invoke(\n",
    "    {\n",
    "        \"messages\": chat_history.messages,\n",
    "        \"context\": docs,\n",
    "    }\n",
    ")\n",
    "\n",
    "# 생성된 답변을 메모리에 저장\n",
    "chat_history.add_ai_message(answer)\n",
    "\n",
    "print(answer)"
   ]
  }
 ],
 "metadata": {
  "kernelspec": {
   "display_name": "AI",
   "language": "python",
   "name": "python3"
  },
  "language_info": {
   "codemirror_mode": {
    "name": "ipython",
    "version": 3
   },
   "file_extension": ".py",
   "mimetype": "text/x-python",
   "name": "python",
   "nbconvert_exporter": "python",
   "pygments_lexer": "ipython3",
   "version": "3.12.7"
  }
 },
 "nbformat": 4,
 "nbformat_minor": 5
}
