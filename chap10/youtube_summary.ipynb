{
 "cells": [
  {
   "cell_type": "markdown",
   "id": "4be25e61",
   "metadata": {},
   "source": [
    "### YoutubeSearch 패키지 설치하기"
   ]
  },
  {
   "cell_type": "code",
   "execution_count": 1,
   "id": "84ea8c56",
   "metadata": {},
   "outputs": [
    {
     "name": "stdout",
     "output_type": "stream",
     "text": [
      "Collecting youtube-search\n",
      "  Downloading youtube_search-2.1.2-py3-none-any.whl.metadata (1.2 kB)\n",
      "Requirement already satisfied: requests in c:\\users\\1\\desktop\\study_ai_agent\\study_ai_agent\\ai\\lib\\site-packages (from youtube-search) (2.32.5)\n",
      "Requirement already satisfied: charset_normalizer<4,>=2 in c:\\users\\1\\desktop\\study_ai_agent\\study_ai_agent\\ai\\lib\\site-packages (from requests->youtube-search) (3.4.3)\n",
      "Requirement already satisfied: idna<4,>=2.5 in c:\\users\\1\\desktop\\study_ai_agent\\study_ai_agent\\ai\\lib\\site-packages (from requests->youtube-search) (3.10)\n",
      "Requirement already satisfied: urllib3<3,>=1.21.1 in c:\\users\\1\\desktop\\study_ai_agent\\study_ai_agent\\ai\\lib\\site-packages (from requests->youtube-search) (2.5.0)\n",
      "Requirement already satisfied: certifi>=2017.4.17 in c:\\users\\1\\desktop\\study_ai_agent\\study_ai_agent\\ai\\lib\\site-packages (from requests->youtube-search) (2025.8.3)\n",
      "Downloading youtube_search-2.1.2-py3-none-any.whl (3.4 kB)\n",
      "Installing collected packages: youtube-search\n",
      "Successfully installed youtube-search-2.1.2\n",
      "Note: you may need to restart the kernel to use updated packages.\n"
     ]
    },
    {
     "name": "stderr",
     "output_type": "stream",
     "text": [
      "\n",
      "[notice] A new release of pip is available: 24.2 -> 25.2\n",
      "[notice] To update, run: python.exe -m pip install --upgrade pip\n"
     ]
    }
   ],
   "source": [
    "%pip install youtube-search"
   ]
  },
  {
   "cell_type": "markdown",
   "id": "0cda3678",
   "metadata": {},
   "source": [
    "### 키워드 검색하기"
   ]
  },
  {
   "cell_type": "code",
   "execution_count": 5,
   "id": "61121a6d",
   "metadata": {},
   "outputs": [
    {
     "data": {
      "text/plain": [
       "[{'id': '4A3P9Tgm8wc',\n",
       "  'thumbnails': ['https://i.ytimg.com/vi/4A3P9Tgm8wc/hq720.jpg?sqp=-oaymwEjCOgCEMoBSFryq4qpAxUIARUAAAAAGAElAADIQj0AgKJDeAE=&rs=AOn4CLBiKa6FlGtJbPpVcHb4Nkfj_G7yqQ',\n",
       "   'https://i.ytimg.com/vi/4A3P9Tgm8wc/hq720.jpg?sqp=-oaymwEXCNAFEJQDSFryq4qpAwkIARUAAIhCGAE=&rs=AOn4CLA9dp_amuxkebdEB0E_Yg87rC4ZQA'],\n",
       "  'title': '[2020 미국 대선] 표 적게 받고도 대통령 된다? 복잡한 선거제도 6분 총정리 ❙ Won Less, but Elected Anyways? / 비디오머그',\n",
       "  'long_desc': None,\n",
       "  'channel': '비디오머그 - VIDEOMUG',\n",
       "  'duration': '5:50',\n",
       "  'views': '조회수 517,112회',\n",
       "  'publish_time': '4년 전',\n",
       "  'url_suffix': '/watch?v=4A3P9Tgm8wc&pp=ygUN66-46rWtIOuMgOyEoA%3D%3D'},\n",
       " {'id': 'rY5_-jEUJYw',\n",
       "  'thumbnails': ['https://i.ytimg.com/vi/rY5_-jEUJYw/hq720.jpg?sqp=-oaymwEjCOgCEMoBSFryq4qpAxUIARUAAAAAGAElAADIQj0AgKJDeAE=&rs=AOn4CLBYYnU7eCb5PSpQCM3gDhOf1bt73g',\n",
       "   'https://i.ytimg.com/vi/rY5_-jEUJYw/hq720.jpg?sqp=-oaymwEXCNAFEJQDSFryq4qpAwkIARUAAIhCGAE=&rs=AOn4CLDcZRS4dfbO_u3K-XKj5S99g25Wiw'],\n",
       "  'title': '[LIVE] 2024 미국 대선 결과 분석 정리',\n",
       "  'long_desc': None,\n",
       "  'channel': '김지윤의 지식Play',\n",
       "  'duration': '1:25:34',\n",
       "  'views': '조회수 394,969회',\n",
       "  'publish_time': '스트리밍 시간: 9개월 전',\n",
       "  'url_suffix': '/watch?v=rY5_-jEUJYw&pp=ygUN66-46rWtIOuMgOyEoA%3D%3D'},\n",
       " {'id': 'LKHzlzh7HBs',\n",
       "  'thumbnails': ['https://i.ytimg.com/vi/LKHzlzh7HBs/hq720.jpg?sqp=-oaymwEjCOgCEMoBSFryq4qpAxUIARUAAAAAGAElAADIQj0AgKJDeAE=&rs=AOn4CLDeGBYbq18px6ES3r95qgC-rERrMg',\n",
       "   'https://i.ytimg.com/vi/LKHzlzh7HBs/hq720.jpg?sqp=-oaymwEXCNAFEJQDSFryq4qpAwkIARUAAIhCGAE=&rs=AOn4CLB4q1lp3LRY4-ASZp-U0YU5Dqq9dw'],\n",
       "  'title': \"🇺🇸[미국대선특집] 대통령 선거 제도 '선거인단'의 유래와 역사\",\n",
       "  'long_desc': None,\n",
       "  'channel': '조승연의 탐구생활',\n",
       "  'duration': '15:33',\n",
       "  'views': '조회수 1,256,320회',\n",
       "  'publish_time': '4년 전',\n",
       "  'url_suffix': '/watch?v=LKHzlzh7HBs&pp=ygUN66-46rWtIOuMgOyEoA%3D%3D'},\n",
       " {'id': 'Rx3dYZPHGAQ',\n",
       "  'thumbnails': ['https://i.ytimg.com/vi/Rx3dYZPHGAQ/hq720.jpg?sqp=-oaymwEjCOgCEMoBSFryq4qpAxUIARUAAAAAGAElAADIQj0AgKJDeAE=&rs=AOn4CLDvv9e9lHeQWMp_ijzoLOvv7scXsA',\n",
       "   'https://i.ytimg.com/vi/Rx3dYZPHGAQ/hq720.jpg?sqp=-oaymwEXCNAFEJQDSFryq4qpAwkIARUAAIhCGAE=&rs=AOn4CLATp6spTWH9Vtckyp3Y3WPCs3sEiQ'],\n",
       "  'title': \"'선거인단·승자 독식'…핵심 키워드로 보는 미국 대선 / 연합뉴스TV (YonhapnewsTV)\",\n",
       "  'long_desc': None,\n",
       "  'channel': '연합뉴스TV',\n",
       "  'duration': '2:42',\n",
       "  'views': '조회수 1,592회',\n",
       "  'publish_time': '9개월 전',\n",
       "  'url_suffix': '/watch?v=Rx3dYZPHGAQ&pp=ygUN66-46rWtIOuMgOyEoA%3D%3D'},\n",
       " {'id': 'HINsHluN4rs',\n",
       "  'thumbnails': ['https://i.ytimg.com/vi/HINsHluN4rs/hq720.jpg?sqp=-oaymwEjCOgCEMoBSFryq4qpAxUIARUAAAAAGAElAADIQj0AgKJDeAE=&rs=AOn4CLCCd8-n4yWccoMJKAXN_E6jtOfH1Q',\n",
       "   'https://i.ytimg.com/vi/HINsHluN4rs/hq720.jpg?sqp=-oaymwEXCNAFEJQDSFryq4qpAwkIARUAAIhCGAE=&rs=AOn4CLAb56aFJ8cZIn5CTT_z8VYev6iyWQ'],\n",
       "  'title': '2020년 미국 대선 왕후닝이 훔쳤다/부정 증거 추가 발견',\n",
       "  'long_desc': None,\n",
       "  'channel': '강신업TV',\n",
       "  'duration': '9:31',\n",
       "  'views': '조회수 22,397회',\n",
       "  'publish_time': '1일 전',\n",
       "  'url_suffix': '/watch?v=HINsHluN4rs&pp=ygUN66-46rWtIOuMgOyEoA%3D%3D'}]"
      ]
     },
     "execution_count": 5,
     "metadata": {},
     "output_type": "execute_result"
    }
   ],
   "source": [
    "from youtube_search import YoutubeSearch\n",
    "\n",
    "videos = YoutubeSearch(\"미국 대선\", max_results=5).to_dict()\n",
    "videos"
   ]
  },
  {
   "cell_type": "markdown",
   "id": "4ba366af",
   "metadata": {},
   "source": [
    "### 온전한 경로 만들기"
   ]
  },
  {
   "cell_type": "code",
   "execution_count": 6,
   "id": "429d011e",
   "metadata": {},
   "outputs": [
    {
     "data": {
      "text/plain": [
       "'https://youtube.com/watch?v=Rx3dYZPHGAQ&pp=ygUN66-46rWtIOuMgOyEoA%3D%3D'"
      ]
     },
     "execution_count": 6,
     "metadata": {},
     "output_type": "execute_result"
    }
   ],
   "source": [
    "video_url = 'https://youtube.com' + videos[3]['url_suffix']\n",
    "video_url"
   ]
  },
  {
   "cell_type": "markdown",
   "id": "7e1e99a5",
   "metadata": {},
   "source": [
    "### youtube_transcript_api 설치하기"
   ]
  },
  {
   "cell_type": "code",
   "execution_count": 7,
   "id": "263ed01e",
   "metadata": {},
   "outputs": [
    {
     "name": "stdout",
     "output_type": "stream",
     "text": [
      "Collecting youtube_transcript_api\n",
      "  Downloading youtube_transcript_api-1.2.2-py3-none-any.whl.metadata (24 kB)\n",
      "Collecting defusedxml<0.8.0,>=0.7.1 (from youtube_transcript_api)\n",
      "  Downloading defusedxml-0.7.1-py2.py3-none-any.whl.metadata (32 kB)\n",
      "Requirement already satisfied: requests in c:\\users\\1\\desktop\\study_ai_agent\\study_ai_agent\\ai\\lib\\site-packages (from youtube_transcript_api) (2.32.5)\n",
      "Requirement already satisfied: charset_normalizer<4,>=2 in c:\\users\\1\\desktop\\study_ai_agent\\study_ai_agent\\ai\\lib\\site-packages (from requests->youtube_transcript_api) (3.4.3)\n",
      "Requirement already satisfied: idna<4,>=2.5 in c:\\users\\1\\desktop\\study_ai_agent\\study_ai_agent\\ai\\lib\\site-packages (from requests->youtube_transcript_api) (3.10)\n",
      "Requirement already satisfied: urllib3<3,>=1.21.1 in c:\\users\\1\\desktop\\study_ai_agent\\study_ai_agent\\ai\\lib\\site-packages (from requests->youtube_transcript_api) (2.5.0)\n",
      "Requirement already satisfied: certifi>=2017.4.17 in c:\\users\\1\\desktop\\study_ai_agent\\study_ai_agent\\ai\\lib\\site-packages (from requests->youtube_transcript_api) (2025.8.3)\n",
      "Downloading youtube_transcript_api-1.2.2-py3-none-any.whl (485 kB)\n",
      "Downloading defusedxml-0.7.1-py2.py3-none-any.whl (25 kB)\n",
      "Installing collected packages: defusedxml, youtube_transcript_api\n",
      "Successfully installed defusedxml-0.7.1 youtube_transcript_api-1.2.2\n",
      "Note: you may need to restart the kernel to use updated packages.\n"
     ]
    },
    {
     "name": "stderr",
     "output_type": "stream",
     "text": [
      "\n",
      "[notice] A new release of pip is available: 24.2 -> 25.2\n",
      "[notice] To update, run: python.exe -m pip install --upgrade pip\n"
     ]
    }
   ],
   "source": [
    "%pip install youtube_transcript_api"
   ]
  },
  {
   "cell_type": "markdown",
   "id": "848079f3",
   "metadata": {},
   "source": [
    "### YoutubeLoader로 유튜브 자막 가져오기"
   ]
  },
  {
   "cell_type": "code",
   "execution_count": 10,
   "id": "e511c8c5",
   "metadata": {},
   "outputs": [
    {
     "name": "stdout",
     "output_type": "stream",
     "text": [
      "총 49개의 자막 세그먼트\n",
      "첫 번째 자막: 이번에도 미국 대선의 승자는 미국만의\n"
     ]
    }
   ],
   "source": [
    "from youtube_transcript_api import YouTubeTranscriptApi\n",
    "import re\n",
    "\n",
    "# URL에서 video_id 추출하는 함수\n",
    "def extract_video_id(url):\n",
    "    pattern = r'(?:youtube\\.com\\/watch\\?v=|youtu\\.be\\/)([^&\\n?#]+)'\n",
    "    match = re.search(pattern, url)\n",
    "    return match.group(1) if match else None\n",
    "\n",
    "# 자막 가져오기\n",
    "video_id = extract_video_id(video_url)\n",
    "yt_api = YouTubeTranscriptApi()\n",
    "transcript = yt_api.fetch(video_id, languages=['ko', 'en'])\n",
    "\n",
    "# 결과 확인\n",
    "print(f\"총 {len(transcript)}개의 자막 세그먼트\")\n",
    "print(\"첫 번째 자막:\", transcript[0].text)\n",
    "\n",
    "# 전체 텍스트 합치기 (필요시)\n",
    "full_text = \" \".join([segment.text for segment in transcript])"
   ]
  }
 ],
 "metadata": {
  "kernelspec": {
   "display_name": "AI",
   "language": "python",
   "name": "python3"
  },
  "language_info": {
   "codemirror_mode": {
    "name": "ipython",
    "version": 3
   },
   "file_extension": ".py",
   "mimetype": "text/x-python",
   "name": "python",
   "nbconvert_exporter": "python",
   "pygments_lexer": "ipython3",
   "version": "3.12.7"
  }
 },
 "nbformat": 4,
 "nbformat_minor": 5
}
